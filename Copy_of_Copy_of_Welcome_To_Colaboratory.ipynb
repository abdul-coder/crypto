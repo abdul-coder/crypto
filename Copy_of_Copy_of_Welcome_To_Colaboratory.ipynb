{
  "nbformat": 4,
  "nbformat_minor": 0,
  "metadata": {
    "colab": {
      "name": "Copy of Copy of Welcome To Colaboratory",
      "provenance": [],
      "collapsed_sections": [],
      "toc_visible": true,
      "include_colab_link": true
    },
    "kernelspec": {
      "display_name": "Python 3",
      "name": "python3"
    }
  },
  "cells": [
    {
      "cell_type": "markdown",
      "metadata": {
        "id": "view-in-github",
        "colab_type": "text"
      },
      "source": [
        "<a href=\"https://colab.research.google.com/github/abdul-coder/crypto/blob/master/Copy_of_Copy_of_Welcome_To_Colaboratory.ipynb\" target=\"_parent\"><img src=\"https://colab.research.google.com/assets/colab-badge.svg\" alt=\"Open In Colab\"/></a>"
      ]
    },
    {
      "cell_type": "code",
      "metadata": {
        "id": "N4OsujnHEPoT"
      },
      "source": [
        "import numpy as np\r\n",
        "import pandas as pd\r\n",
        "\r\n",
        "\r\n",
        "from scipy.io import arff"
      ],
      "execution_count": null,
      "outputs": []
    },
    {
      "cell_type": "markdown",
      "metadata": {
        "id": "OsHakj8-aF97"
      },
      "source": [
        "#KNN\r\n"
      ]
    },
    {
      "cell_type": "code",
      "metadata": {
        "id": "8BSkheh5EpAP"
      },
      "source": [
        "data = arff.loadarff('Car_TRAIN.arff')\r\n",
        "X = pd.DataFrame(data[0])\r\n",
        "y = X['target'].copy()\r\n",
        "y = y.astype('int')                              #important to change in integer"
      ],
      "execution_count": null,
      "outputs": []
    },
    {
      "cell_type": "code",
      "metadata": {
        "id": "kS_FOOApF1OC"
      },
      "source": [
        "X.drop(labels='target', axis=1)"
      ],
      "execution_count": null,
      "outputs": []
    },
    {
      "cell_type": "code",
      "metadata": {
        "id": "ydBy7PbmFK0C"
      },
      "source": [
        "X.shape"
      ],
      "execution_count": null,
      "outputs": []
    },
    {
      "cell_type": "code",
      "metadata": {
        "id": "xauuO1eIFbVY"
      },
      "source": [
        "y.shape"
      ],
      "execution_count": null,
      "outputs": []
    },
    {
      "cell_type": "code",
      "metadata": {
        "id": "g21rS9h8Fdcb"
      },
      "source": [
        "!pip install pyts\r\n",
        "from pyts.classification import KNeighborsClassifier"
      ],
      "execution_count": null,
      "outputs": []
    },
    {
      "cell_type": "code",
      "metadata": {
        "colab": {
          "base_uri": "https://localhost:8080/"
        },
        "id": "J960vZSXFtKS",
        "outputId": "5ebf1947-dfd2-493f-affc-763ce449fe4d"
      },
      "source": [
        "clf = KNeighborsClassifier(metric='dtw')\r\n",
        "clf.fit(X, y)"
      ],
      "execution_count": null,
      "outputs": [
        {
          "output_type": "execute_result",
          "data": {
            "text/plain": [
              "KNeighborsClassifier(algorithm='auto', leaf_size=30, metric='dtw',\n",
              "                     metric_params=None, n_jobs=1, n_neighbors=1, p=2,\n",
              "                     weights='uniform')"
            ]
          },
          "metadata": {
            "tags": []
          },
          "execution_count": 49
        }
      ]
    },
    {
      "cell_type": "code",
      "metadata": {
        "id": "oAd25mdrJ3VS"
      },
      "source": [
        "data1 = arff.loadarff('Car_TEST.arff')\r\n",
        "X_test = pd.DataFrame(data1[0])"
      ],
      "execution_count": null,
      "outputs": []
    },
    {
      "cell_type": "code",
      "metadata": {
        "id": "8xW7YgX7J0gF"
      },
      "source": [
        "X_test.drop('target', axis=1)"
      ],
      "execution_count": null,
      "outputs": []
    },
    {
      "cell_type": "code",
      "metadata": {
        "id": "5poB_tpMKRpW"
      },
      "source": [
        "y_test = X_test['target'].copy()\r\n",
        "y_test = y_test.astype('int')"
      ],
      "execution_count": null,
      "outputs": []
    },
    {
      "cell_type": "code",
      "metadata": {
        "colab": {
          "base_uri": "https://localhost:8080/"
        },
        "id": "Ei8fERP4KYhR",
        "outputId": "8a8ccfa9-eeb7-4c71-9428-e64711c5c642"
      },
      "source": [
        "clf.score(X_test, y_test)"
      ],
      "execution_count": null,
      "outputs": [
        {
          "output_type": "execute_result",
          "data": {
            "text/plain": [
              "0.95"
            ]
          },
          "metadata": {
            "tags": []
          },
          "execution_count": 53
        }
      ]
    },
    {
      "cell_type": "markdown",
      "metadata": {
        "id": "nvWwuIfkK0el"
      },
      "source": [
        "# SAX VSM"
      ]
    },
    {
      "cell_type": "code",
      "metadata": {
        "colab": {
          "base_uri": "https://localhost:8080/"
        },
        "id": "b142OAm4K2ie",
        "outputId": "084ac094-8eb9-4cd5-9161-4dcbcaad0001"
      },
      "source": [
        "from pyts.classification import SAXVSM\r\n",
        "clf = SAXVSM(window_size=34, sublinear_tf=False, use_idf=False)\r\n",
        "clf.fit(X, y)"
      ],
      "execution_count": null,
      "outputs": [
        {
          "output_type": "stream",
          "text": [
            "/usr/local/lib/python3.6/dist-packages/pyts/bag_of_words/bow.py:246: FutureWarning: BagOfWords has been reworked in 0.11 in order to match its definition in the literature. To get the old BagOfWords, use pyts.bag_of_words.WordExtractor instead.\n",
            "  \"instead.\", FutureWarning)\n"
          ],
          "name": "stderr"
        },
        {
          "output_type": "execute_result",
          "data": {
            "text/plain": [
              "SAXVSM(alphabet=None, n_bins=4, norm_mean=True, norm_std=True,\n",
              "       numerosity_reduction=True, overlapping=True, smooth_idf=False,\n",
              "       strategy='normal', sublinear_tf=False, use_idf=False, window_size=34,\n",
              "       window_step=1, word_size=0.5)"
            ]
          },
          "metadata": {
            "tags": []
          },
          "execution_count": 54
        }
      ]
    },
    {
      "cell_type": "code",
      "metadata": {
        "colab": {
          "base_uri": "https://localhost:8080/"
        },
        "id": "oxmarRikStXc",
        "outputId": "de9e6891-4e91-4978-faff-198753735d51"
      },
      "source": [
        "clf.score(X_test, y_test)"
      ],
      "execution_count": null,
      "outputs": [
        {
          "output_type": "execute_result",
          "data": {
            "text/plain": [
              "0.6833333333333333"
            ]
          },
          "metadata": {
            "tags": []
          },
          "execution_count": 55
        }
      ]
    },
    {
      "cell_type": "markdown",
      "metadata": {
        "id": "ZUEI2CH6S9cV"
      },
      "source": [
        "#BOSSVS"
      ]
    },
    {
      "cell_type": "code",
      "metadata": {
        "colab": {
          "base_uri": "https://localhost:8080/"
        },
        "id": "nX-wtXhKS6Yj",
        "outputId": "652ce0af-4cc0-4b1d-baea-38cc8194e74b"
      },
      "source": [
        "from pyts.classification import BOSSVS\r\n",
        "clf = BOSSVS(window_size=24)\r\n",
        "clf.fit(X, y)"
      ],
      "execution_count": null,
      "outputs": [
        {
          "output_type": "execute_result",
          "data": {
            "text/plain": [
              "BOSSVS(alphabet=None, anova=False, drop_sum=False, n_bins=4, norm_mean=False,\n",
              "       norm_std=False, numerosity_reduction=True, smooth_idf=False,\n",
              "       strategy='quantile', sublinear_tf=True, use_idf=True, window_size=24,\n",
              "       window_step=1, word_size=4)"
            ]
          },
          "metadata": {
            "tags": []
          },
          "execution_count": 56
        }
      ]
    },
    {
      "cell_type": "code",
      "metadata": {
        "colab": {
          "base_uri": "https://localhost:8080/"
        },
        "id": "zMkMJGoATW-D",
        "outputId": "7721cb02-e288-42d4-df72-a550be7d8a1f"
      },
      "source": [
        "clf.score(X_test, y_test)"
      ],
      "execution_count": null,
      "outputs": [
        {
          "output_type": "execute_result",
          "data": {
            "text/plain": [
              "0.7"
            ]
          },
          "metadata": {
            "tags": []
          },
          "execution_count": 57
        }
      ]
    },
    {
      "cell_type": "markdown",
      "metadata": {
        "id": "6rg9owiZTdu8"
      },
      "source": [
        "#Learning Shapelets"
      ]
    },
    {
      "cell_type": "code",
      "metadata": {
        "colab": {
          "base_uri": "https://localhost:8080/"
        },
        "id": "aIu_5aBvTcvt",
        "outputId": "6813ee14-2644-4a87-973f-aa821e98332f"
      },
      "source": [
        "from pyts.classification import LearningShapelets\r\n",
        "clf = LearningShapelets(random_state=42, tol=0.01)\r\n",
        "clf.fit(X, y)"
      ],
      "execution_count": null,
      "outputs": [
        {
          "output_type": "stream",
          "text": [
            "/usr/local/lib/python3.6/dist-packages/numpy/core/_asarray.py:83: VisibleDeprecationWarning: Creating an ndarray from ragged nested sequences (which is a list-or-tuple of lists-or-tuples-or ndarrays with different lengths or shapes) is deprecated. If you meant to do this, you must specify 'dtype=object' when creating the ndarray\n",
            "  return array(a, dtype, copy=False, order=order)\n"
          ],
          "name": "stderr"
        },
        {
          "output_type": "execute_result",
          "data": {
            "text/plain": [
              "LearningShapelets(C=1000, alpha=-100, class_weight=None, fit_intercept=True,\n",
              "                  intercept_scaling=1.0, learning_rate=1.0, max_iter=1000,\n",
              "                  min_shapelet_length=0.1, multi_class='multinomial',\n",
              "                  n_jobs=None, n_shapelets_per_size=0.2, penalty='l2',\n",
              "                  random_state=42, shapelet_scale=3, tol=0.01, verbose=0)"
            ]
          },
          "metadata": {
            "tags": []
          },
          "execution_count": 41
        }
      ]
    },
    {
      "cell_type": "code",
      "metadata": {
        "colab": {
          "base_uri": "https://localhost:8080/"
        },
        "id": "f_v503YOTcse",
        "outputId": "6276e3a7-5460-4851-ac07-f900cdfd61d6"
      },
      "source": [
        "clf.score(X_test, y_test)"
      ],
      "execution_count": null,
      "outputs": [
        {
          "output_type": "execute_result",
          "data": {
            "text/plain": [
              "0.65"
            ]
          },
          "metadata": {
            "tags": []
          },
          "execution_count": 42
        }
      ]
    },
    {
      "cell_type": "markdown",
      "metadata": {
        "id": "1AThmcMeYEm_"
      },
      "source": [
        "#Extracting features from time series"
      ]
    },
    {
      "cell_type": "code",
      "metadata": {
        "id": "OiBnMsotYH9L"
      },
      "source": [
        "from pyts.transformation import ShapeletTransform\r\n",
        "from sklearn.pipeline import make_pipeline\r\n",
        "from sklearn.svm import LinearSVC"
      ],
      "execution_count": null,
      "outputs": []
    },
    {
      "cell_type": "code",
      "metadata": {
        "colab": {
          "base_uri": "https://localhost:8080/"
        },
        "id": "dNNsXGCUZOJF",
        "outputId": "7fa51bfa-9fb7-475f-f70d-33fadc056250"
      },
      "source": [
        "shapelet = ShapeletTransform(window_sizes=np.arange(10, 130, 3), random_state=42)\r\n",
        "svc = LinearSVC\r\n",
        "clf = make_pipeline(shapelet, svc)\r\n",
        "clf.fit(X, y)"
      ],
      "execution_count": null,
      "outputs": [
        {
          "output_type": "stream",
          "text": [
            "/usr/local/lib/python3.6/dist-packages/numpy/core/_asarray.py:83: VisibleDeprecationWarning: Creating an ndarray from ragged nested sequences (which is a list-or-tuple of lists-or-tuples-or ndarrays with different lengths or shapes) is deprecated. If you meant to do this, you must specify 'dtype=object' when creating the ndarray\n",
            "  return array(a, dtype, copy=False, order=order)\n",
            "/usr/local/lib/python3.6/dist-packages/numpy/core/_asarray.py:83: VisibleDeprecationWarning: Creating an ndarray from ragged nested sequences (which is a list-or-tuple of lists-or-tuples-or ndarrays with different lengths or shapes) is deprecated. If you meant to do this, you must specify 'dtype=object' when creating the ndarray\n",
            "  return array(a, dtype, copy=False, order=order)\n"
          ],
          "name": "stderr"
        }
      ]
    },
    {
      "cell_type": "code",
      "metadata": {
        "id": "V1oO4aC8Z9a8"
      },
      "source": [
        "clf.score(X_test, y_test)"
      ],
      "execution_count": null,
      "outputs": []
    }
  ]
}