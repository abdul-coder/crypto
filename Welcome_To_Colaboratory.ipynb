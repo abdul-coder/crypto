{
  "nbformat": 4,
  "nbformat_minor": 0,
  "metadata": {
    "colab": {
      "name": "Welcome To Colaboratory",
      "provenance": [],
      "collapsed_sections": [],
      "toc_visible": true,
      "include_colab_link": true
    },
    "kernelspec": {
      "display_name": "Python 3",
      "name": "python3"
    }
  },
  "cells": [
    {
      "cell_type": "markdown",
      "metadata": {
        "id": "view-in-github",
        "colab_type": "text"
      },
      "source": [
        "<a href=\"https://colab.research.google.com/github/abdul-coder/crypto/blob/master/Welcome_To_Colaboratory.ipynb\" target=\"_parent\"><img src=\"https://colab.research.google.com/assets/colab-badge.svg\" alt=\"Open In Colab\"/></a>"
      ]
    },
    {
      "cell_type": "markdown",
      "metadata": {
        "id": "3G7b3xwsrJ4k"
      },
      "source": [
        "#Preprocessing the dummy data\r\n",
        "side effect=1\r\n",
        "no side effect=0\r\n",
        "\r\n"
      ]
    },
    {
      "cell_type": "code",
      "metadata": {
        "id": "rACaHv5TrJeo"
      },
      "source": [
        "import numpy as np\r\n",
        "from random import randint\r\n",
        "from sklearn.preprocessing import MinMaxScaler\r\n",
        "from sklearn.utils import shuffle "
      ],
      "execution_count": 98,
      "outputs": []
    },
    {
      "cell_type": "code",
      "metadata": {
        "id": "Q2uyPaSUrRpk"
      },
      "source": [
        "train_samples = []\r\n",
        "train_labels = []"
      ],
      "execution_count": 99,
      "outputs": []
    },
    {
      "cell_type": "code",
      "metadata": {
        "id": "a901DNHcrW0x"
      },
      "source": [
        "for i in range(50):\r\n",
        "#the 5% younger individuals who did experience side effects\r\n",
        "  random_younger = randint(13, 64)\r\n",
        "  train_samples.append(random_younger)\r\n",
        "  train_labels.append(1)\r\n",
        "\r\n",
        "#the 5% younger individuals who did not experience side effects\r\n",
        "  random_older = randint(65, 100)\r\n",
        "  train_samples.append(random_older)\r\n",
        "  train_labels.append(0)\r\n",
        "\r\n",
        "for i in range(1000):\r\n",
        "\r\n",
        "##the 95% younger individuals who did experience side effects\r\n",
        "  random_younger = randint(13, 64)\r\n",
        "  train_samples.append(random_younger)\r\n",
        "  train_labels.append(1)\r\n",
        "\r\n",
        "#the 95% younger individuals who did not experience side effects\r\n",
        "  random_older = randint(65, 100)\r\n",
        "  train_samples.append(random_older)\r\n",
        "  train_labels.append(0)"
      ],
      "execution_count": 100,
      "outputs": []
    },
    {
      "cell_type": "code",
      "metadata": {
        "id": "SMcJqgADsRcb"
      },
      "source": [
        "train_samples = np.array(train_samples)\r\n",
        "train_labels = np.array(train_labels)\r\n",
        "\r\n",
        "train_samples, train_labels = shuffle(train_samples, train_labels)"
      ],
      "execution_count": 101,
      "outputs": []
    },
    {
      "cell_type": "code",
      "metadata": {
        "id": "qYBtlXN4zWqz"
      },
      "source": [
        "scaler = MinMaxScaler(feature_range=(0, 1))\r\n",
        "scaled_train_samples = scaler.fit_transform(train_samples.reshape(-1, 1))"
      ],
      "execution_count": 102,
      "outputs": []
    },
    {
      "cell_type": "markdown",
      "metadata": {
        "id": "oxzIpeNTz0QS"
      },
      "source": [
        "# Modelling"
      ]
    },
    {
      "cell_type": "code",
      "metadata": {
        "id": "yLfDnZ97z2tl"
      },
      "source": [
        "import tensorflow as tf\r\n",
        "from tensorflow import keras\r\n",
        "from tensorflow.keras.models import Sequential"
      ],
      "execution_count": 103,
      "outputs": []
    },
    {
      "cell_type": "code",
      "metadata": {
        "id": "p3QH9HIA0LW0"
      },
      "source": [
        "model = Sequential([\r\n",
        "        keras.layers.Dense(16, input_shape=(1,), activation=\"relu\"), \r\n",
        "        keras.layers.Dense(32, activation=\"relu\"), \r\n",
        "        keras.layers.Dense(2, activation=\"softmax\")\r\n",
        "])"
      ],
      "execution_count": 104,
      "outputs": []
    },
    {
      "cell_type": "code",
      "metadata": {
        "colab": {
          "base_uri": "https://localhost:8080/"
        },
        "id": "5F5SdtqJ01Ax",
        "outputId": "efff5770-299c-43d5-8e93-94858bb3eb75"
      },
      "source": [
        "model.summary()"
      ],
      "execution_count": 105,
      "outputs": [
        {
          "output_type": "stream",
          "text": [
            "Model: \"sequential_4\"\n",
            "_________________________________________________________________\n",
            "Layer (type)                 Output Shape              Param #   \n",
            "=================================================================\n",
            "dense_12 (Dense)             (None, 16)                32        \n",
            "_________________________________________________________________\n",
            "dense_13 (Dense)             (None, 32)                544       \n",
            "_________________________________________________________________\n",
            "dense_14 (Dense)             (None, 2)                 66        \n",
            "=================================================================\n",
            "Total params: 642\n",
            "Trainable params: 642\n",
            "Non-trainable params: 0\n",
            "_________________________________________________________________\n"
          ],
          "name": "stdout"
        }
      ]
    },
    {
      "cell_type": "markdown",
      "metadata": {
        "id": "eWhk40-Z12bw"
      },
      "source": [
        "##compile the model"
      ]
    },
    {
      "cell_type": "code",
      "metadata": {
        "id": "VyNhxWHY0sS-"
      },
      "source": [
        "model.compile(optimizer=Adam(learning_rate=0.001), loss=\"sparse_categorical_crossentropy\", metrics=\"accuracy\")"
      ],
      "execution_count": 106,
      "outputs": []
    },
    {
      "cell_type": "markdown",
      "metadata": {
        "id": "mz3_YKia2Jln"
      },
      "source": [
        "##Fit the data"
      ]
    },
    {
      "cell_type": "code",
      "metadata": {
        "colab": {
          "base_uri": "https://localhost:8080/"
        },
        "id": "J_QxiPRy15N2",
        "outputId": "0c66d50e-7fbf-4714-a189-8a2ebcfbce22"
      },
      "source": [
        "model.fit(x=scaled_train_samples, y=train_labels, batch_size=10, epochs=30, verbose=2)"
      ],
      "execution_count": 107,
      "outputs": [
        {
          "output_type": "stream",
          "text": [
            "Epoch 1/30\n",
            "210/210 - 1s - loss: 0.5411 - accuracy: 0.7024\n",
            "Epoch 2/30\n",
            "210/210 - 0s - loss: 0.2081 - accuracy: 0.9519\n",
            "Epoch 3/30\n",
            "210/210 - 0s - loss: 0.1054 - accuracy: 0.9838\n",
            "Epoch 4/30\n",
            "210/210 - 0s - loss: 0.0756 - accuracy: 0.9919\n",
            "Epoch 5/30\n",
            "210/210 - 0s - loss: 0.0604 - accuracy: 0.9914\n",
            "Epoch 6/30\n",
            "210/210 - 0s - loss: 0.0516 - accuracy: 0.9933\n",
            "Epoch 7/30\n",
            "210/210 - 0s - loss: 0.0465 - accuracy: 0.9919\n",
            "Epoch 8/30\n",
            "210/210 - 0s - loss: 0.0425 - accuracy: 0.9905\n",
            "Epoch 9/30\n",
            "210/210 - 0s - loss: 0.0394 - accuracy: 0.9929\n",
            "Epoch 10/30\n",
            "210/210 - 0s - loss: 0.0347 - accuracy: 0.9943\n",
            "Epoch 11/30\n",
            "210/210 - 0s - loss: 0.0322 - accuracy: 0.9943\n",
            "Epoch 12/30\n",
            "210/210 - 0s - loss: 0.0321 - accuracy: 0.9910\n",
            "Epoch 13/30\n",
            "210/210 - 0s - loss: 0.0284 - accuracy: 0.9952\n",
            "Epoch 14/30\n",
            "210/210 - 0s - loss: 0.0271 - accuracy: 0.9952\n",
            "Epoch 15/30\n",
            "210/210 - 0s - loss: 0.0266 - accuracy: 0.9943\n",
            "Epoch 16/30\n",
            "210/210 - 0s - loss: 0.0254 - accuracy: 0.9938\n",
            "Epoch 17/30\n",
            "210/210 - 0s - loss: 0.0243 - accuracy: 0.9948\n",
            "Epoch 18/30\n",
            "210/210 - 0s - loss: 0.0224 - accuracy: 0.9948\n",
            "Epoch 19/30\n",
            "210/210 - 0s - loss: 0.0227 - accuracy: 0.9948\n",
            "Epoch 20/30\n",
            "210/210 - 0s - loss: 0.0222 - accuracy: 0.9943\n",
            "Epoch 21/30\n",
            "210/210 - 0s - loss: 0.0203 - accuracy: 0.9952\n",
            "Epoch 22/30\n",
            "210/210 - 0s - loss: 0.0194 - accuracy: 0.9962\n",
            "Epoch 23/30\n",
            "210/210 - 0s - loss: 0.0186 - accuracy: 0.9967\n",
            "Epoch 24/30\n",
            "210/210 - 0s - loss: 0.0185 - accuracy: 0.9948\n",
            "Epoch 25/30\n",
            "210/210 - 0s - loss: 0.0183 - accuracy: 0.9962\n",
            "Epoch 26/30\n",
            "210/210 - 0s - loss: 0.0172 - accuracy: 0.9967\n",
            "Epoch 27/30\n",
            "210/210 - 0s - loss: 0.0172 - accuracy: 0.9938\n",
            "Epoch 28/30\n",
            "210/210 - 0s - loss: 0.0165 - accuracy: 0.9967\n",
            "Epoch 29/30\n",
            "210/210 - 0s - loss: 0.0166 - accuracy: 0.9943\n",
            "Epoch 30/30\n",
            "210/210 - 0s - loss: 0.0174 - accuracy: 0.9933\n"
          ],
          "name": "stdout"
        },
        {
          "output_type": "execute_result",
          "data": {
            "text/plain": [
              "<tensorflow.python.keras.callbacks.History at 0x7fa9a9e6dba8>"
            ]
          },
          "metadata": {
            "tags": []
          },
          "execution_count": 107
        }
      ]
    },
    {
      "cell_type": "markdown",
      "metadata": {
        "id": "pPiDRAyX2NtW"
      },
      "source": [
        "##Validation data"
      ]
    },
    {
      "cell_type": "code",
      "metadata": {
        "colab": {
          "base_uri": "https://localhost:8080/"
        },
        "id": "pqHTQaQE2QQ3",
        "outputId": "1ed80a14-658d-4911-f742-e42a46945c5f"
      },
      "source": [
        "model.fit(x=scaled_train_samples, y= train_labels, validation_split=0.1, batch_size=10, epochs=20, verbose=2)"
      ],
      "execution_count": 108,
      "outputs": [
        {
          "output_type": "stream",
          "text": [
            "Epoch 1/20\n",
            "189/189 - 0s - loss: 0.0157 - accuracy: 0.9952 - val_loss: 0.0154 - val_accuracy: 0.9857\n",
            "Epoch 2/20\n",
            "189/189 - 0s - loss: 0.0168 - accuracy: 0.9926 - val_loss: 0.0107 - val_accuracy: 1.0000\n",
            "Epoch 3/20\n",
            "189/189 - 0s - loss: 0.0176 - accuracy: 0.9942 - val_loss: 0.0106 - val_accuracy: 1.0000\n",
            "Epoch 4/20\n",
            "189/189 - 0s - loss: 0.0163 - accuracy: 0.9958 - val_loss: 0.0099 - val_accuracy: 1.0000\n",
            "Epoch 5/20\n",
            "189/189 - 0s - loss: 0.0144 - accuracy: 0.9979 - val_loss: 0.0097 - val_accuracy: 1.0000\n",
            "Epoch 6/20\n",
            "189/189 - 0s - loss: 0.0160 - accuracy: 0.9952 - val_loss: 0.0104 - val_accuracy: 1.0000\n",
            "Epoch 7/20\n",
            "189/189 - 0s - loss: 0.0140 - accuracy: 0.9958 - val_loss: 0.0147 - val_accuracy: 0.9857\n",
            "Epoch 8/20\n",
            "189/189 - 0s - loss: 0.0153 - accuracy: 0.9947 - val_loss: 0.0091 - val_accuracy: 1.0000\n",
            "Epoch 9/20\n",
            "189/189 - 0s - loss: 0.0154 - accuracy: 0.9963 - val_loss: 0.0101 - val_accuracy: 1.0000\n",
            "Epoch 10/20\n",
            "189/189 - 0s - loss: 0.0126 - accuracy: 0.9968 - val_loss: 0.0087 - val_accuracy: 1.0000\n",
            "Epoch 11/20\n",
            "189/189 - 0s - loss: 0.0142 - accuracy: 0.9958 - val_loss: 0.0088 - val_accuracy: 0.9952\n",
            "Epoch 12/20\n",
            "189/189 - 0s - loss: 0.0150 - accuracy: 0.9958 - val_loss: 0.0092 - val_accuracy: 0.9952\n",
            "Epoch 13/20\n",
            "189/189 - 0s - loss: 0.0129 - accuracy: 0.9968 - val_loss: 0.0122 - val_accuracy: 0.9952\n",
            "Epoch 14/20\n",
            "189/189 - 0s - loss: 0.0139 - accuracy: 0.9968 - val_loss: 0.0145 - val_accuracy: 0.9857\n",
            "Epoch 15/20\n",
            "189/189 - 0s - loss: 0.0120 - accuracy: 0.9947 - val_loss: 0.0090 - val_accuracy: 1.0000\n",
            "Epoch 16/20\n",
            "189/189 - 0s - loss: 0.0135 - accuracy: 0.9958 - val_loss: 0.0080 - val_accuracy: 1.0000\n",
            "Epoch 17/20\n",
            "189/189 - 0s - loss: 0.0153 - accuracy: 0.9937 - val_loss: 0.0081 - val_accuracy: 0.9952\n",
            "Epoch 18/20\n",
            "189/189 - 0s - loss: 0.0126 - accuracy: 0.9952 - val_loss: 0.0076 - val_accuracy: 1.0000\n",
            "Epoch 19/20\n",
            "189/189 - 0s - loss: 0.0134 - accuracy: 0.9937 - val_loss: 0.0076 - val_accuracy: 1.0000\n",
            "Epoch 20/20\n",
            "189/189 - 0s - loss: 0.0117 - accuracy: 0.9963 - val_loss: 0.0074 - val_accuracy: 1.0000\n"
          ],
          "name": "stdout"
        },
        {
          "output_type": "execute_result",
          "data": {
            "text/plain": [
              "<tensorflow.python.keras.callbacks.History at 0x7fa9a9dc0160>"
            ]
          },
          "metadata": {
            "tags": []
          },
          "execution_count": 108
        }
      ]
    },
    {
      "cell_type": "markdown",
      "metadata": {
        "id": "veKkmuUX5Dx7"
      },
      "source": [
        "#Making test dummy data set"
      ]
    },
    {
      "cell_type": "code",
      "metadata": {
        "id": "hdRA5t_I4wyB"
      },
      "source": [
        "test_samples = []\r\n",
        "test_labels = []"
      ],
      "execution_count": 109,
      "outputs": []
    },
    {
      "cell_type": "code",
      "metadata": {
        "id": "2kR2Dg3_41jj"
      },
      "source": [
        "for i in range(10):\r\n",
        "#the 5% younger individuals who did experience side effects\r\n",
        "  random_younger = randint(13, 64)\r\n",
        "  test_samples.append(random_younger)\r\n",
        "  test_labels.append(1)\r\n",
        "\r\n",
        "#the 5% younger individuals who did not experience side effects\r\n",
        "  random_older = randint(65, 100)\r\n",
        "  test_samples.append(random_older)\r\n",
        "  test_labels.append(0)\r\n",
        "\r\n",
        "for i in range(200):\r\n",
        "\r\n",
        "##the 95% younger individuals who did experience side effects\r\n",
        "  random_younger = randint(13, 64)\r\n",
        "  test_samples.append(random_younger)\r\n",
        "  test_labels.append(1)\r\n",
        "\r\n",
        "#the 95% younger individuals who did not experience side effects\r\n",
        "  random_older = randint(65, 100)\r\n",
        "  test_samples.append(random_older)\r\n",
        "  test_labels.append(0)"
      ],
      "execution_count": 110,
      "outputs": []
    },
    {
      "cell_type": "code",
      "metadata": {
        "id": "_-61_u8q5RfC"
      },
      "source": [
        "test_samples = np.array(test_samples)\r\n",
        "test_labels = np.array(test_labels)\r\n",
        "\r\n",
        "test_samples, test_labels = shuffle(test_samples, test_labels)"
      ],
      "execution_count": 111,
      "outputs": []
    },
    {
      "cell_type": "code",
      "metadata": {
        "id": "ubs09QjN5f5w"
      },
      "source": [
        "scaled_test_samples = scaler.fit_transform(test_samples.reshape(-1, 1))"
      ],
      "execution_count": 112,
      "outputs": []
    },
    {
      "cell_type": "markdown",
      "metadata": {
        "id": "T8ddjFe05vzj"
      },
      "source": [
        "#Predict the test data"
      ]
    },
    {
      "cell_type": "code",
      "metadata": {
        "id": "6cd_VTR45t3g"
      },
      "source": [
        "predictions = model.predict(x=scaled_test_samples, batch_size=10, verbose=0)"
      ],
      "execution_count": 125,
      "outputs": []
    },
    {
      "cell_type": "code",
      "metadata": {
        "id": "9bxzWG_fECLI"
      },
      "source": [
        "for i in predictions:\r\n",
        "  print(i)"
      ],
      "execution_count": null,
      "outputs": []
    },
    {
      "cell_type": "code",
      "metadata": {
        "id": "U-J7Gs1jCLmf"
      },
      "source": [
        "rounded_predictions = np.argmax(predictions, axis=-1)"
      ],
      "execution_count": 121,
      "outputs": []
    },
    {
      "cell_type": "code",
      "metadata": {
        "id": "mR0990BoAe9W"
      },
      "source": [
        "for i in rounded_predictions:\r\n",
        "  print(i)"
      ],
      "execution_count": null,
      "outputs": []
    },
    {
      "cell_type": "markdown",
      "metadata": {
        "id": "60B_a5ovFZny"
      },
      "source": [
        "#Confusion Matrix"
      ]
    },
    {
      "cell_type": "markdown",
      "metadata": {
        "id": "Jxk9KsjaFh1e"
      },
      "source": [
        "`Using the confusion matrix: How well the model is predict.`\r\n",
        "\r\n",
        "\r\n",
        "\r\n"
      ]
    },
    {
      "cell_type": "code",
      "metadata": {
        "id": "XlX1ET75FgjD"
      },
      "source": [
        "%matplotlib inline\r\n",
        "from sklearn.metrics import confusion_matrix\r\n",
        "import itertools\r\n",
        "import matplotlib.pyplot as plt"
      ],
      "execution_count": 128,
      "outputs": []
    },
    {
      "cell_type": "code",
      "metadata": {
        "id": "UaLH80BMGUrQ"
      },
      "source": [
        "cm = confusion_matrix(y_true=test_labels, y_pred=rounded_predictions)"
      ],
      "execution_count": 129,
      "outputs": []
    },
    {
      "cell_type": "code",
      "metadata": {
        "id": "UHyX-3UDGuqw"
      },
      "source": [
        ""
      ],
      "execution_count": null,
      "outputs": []
    }
  ]
}