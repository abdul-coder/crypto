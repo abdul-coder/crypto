{
  "nbformat": 4,
  "nbformat_minor": 0,
  "metadata": {
    "colab": {
      "name": "Welcome To Colaboratory",
      "provenance": [],
      "collapsed_sections": [],
      "include_colab_link": true
    },
    "kernelspec": {
      "display_name": "Python 3",
      "name": "python3"
    }
  },
  "cells": [
    {
      "cell_type": "markdown",
      "metadata": {
        "id": "view-in-github",
        "colab_type": "text"
      },
      "source": [
        "<a href=\"https://colab.research.google.com/github/abdul-coder/crypto/blob/master/Welcome_To_Colaboratory.ipynb\" target=\"_parent\"><img src=\"https://colab.research.google.com/assets/colab-badge.svg\" alt=\"Open In Colab\"/></a>"
      ]
    },
    {
      "cell_type": "code",
      "metadata": {
        "id": "gUckmO-700n3"
      },
      "source": [
        "import numpy as np\r\n",
        "import pandas as pd\r\n",
        "import matplotlib.pyplot as plt\r\n",
        "import seaborn as sns\r\n",
        "\r\n",
        "from sklearn.preprocessing import StandardScaler\r\n",
        "from sklearn.model_selection import train_test_split\r\n",
        "\r\n",
        "import tensorflow as tf\r\n",
        "\r\n",
        "from sklearn.metrics import confusion_matrix, classification_report"
      ],
      "execution_count": 94,
      "outputs": []
    },
    {
      "cell_type": "code",
      "metadata": {
        "id": "WvzMI-Ad5YNg"
      },
      "source": [
        "eeg_df = pd.read_csv('EEG_data.csv')\r\n",
        "info_df = pd.read_csv('demographic_info.csv')"
      ],
      "execution_count": 95,
      "outputs": []
    },
    {
      "cell_type": "code",
      "metadata": {
        "id": "gxQoHncdQymD",
        "outputId": "37dbebf7-9399-47c7-cdb2-4947a9fe53c2",
        "colab": {
          "base_uri": "https://localhost:8080/",
          "height": 241
        }
      },
      "source": [
        "eeg_df.head()"
      ],
      "execution_count": 96,
      "outputs": [
        {
          "output_type": "execute_result",
          "data": {
            "text/html": [
              "<div>\n",
              "<style scoped>\n",
              "    .dataframe tbody tr th:only-of-type {\n",
              "        vertical-align: middle;\n",
              "    }\n",
              "\n",
              "    .dataframe tbody tr th {\n",
              "        vertical-align: top;\n",
              "    }\n",
              "\n",
              "    .dataframe thead th {\n",
              "        text-align: right;\n",
              "    }\n",
              "</style>\n",
              "<table border=\"1\" class=\"dataframe\">\n",
              "  <thead>\n",
              "    <tr style=\"text-align: right;\">\n",
              "      <th></th>\n",
              "      <th>SubjectID</th>\n",
              "      <th>VideoID</th>\n",
              "      <th>Attention</th>\n",
              "      <th>Mediation</th>\n",
              "      <th>Raw</th>\n",
              "      <th>Delta</th>\n",
              "      <th>Theta</th>\n",
              "      <th>Alpha1</th>\n",
              "      <th>Alpha2</th>\n",
              "      <th>Beta1</th>\n",
              "      <th>Beta2</th>\n",
              "      <th>Gamma1</th>\n",
              "      <th>Gamma2</th>\n",
              "      <th>predefinedlabel</th>\n",
              "      <th>user-definedlabeln</th>\n",
              "    </tr>\n",
              "  </thead>\n",
              "  <tbody>\n",
              "    <tr>\n",
              "      <th>0</th>\n",
              "      <td>0.0</td>\n",
              "      <td>0.0</td>\n",
              "      <td>56.0</td>\n",
              "      <td>43.0</td>\n",
              "      <td>278.0</td>\n",
              "      <td>301963.0</td>\n",
              "      <td>90612.0</td>\n",
              "      <td>33735.0</td>\n",
              "      <td>23991.0</td>\n",
              "      <td>27946.0</td>\n",
              "      <td>45097.0</td>\n",
              "      <td>33228.0</td>\n",
              "      <td>8293.0</td>\n",
              "      <td>0.0</td>\n",
              "      <td>0.0</td>\n",
              "    </tr>\n",
              "    <tr>\n",
              "      <th>1</th>\n",
              "      <td>0.0</td>\n",
              "      <td>0.0</td>\n",
              "      <td>40.0</td>\n",
              "      <td>35.0</td>\n",
              "      <td>-50.0</td>\n",
              "      <td>73787.0</td>\n",
              "      <td>28083.0</td>\n",
              "      <td>1439.0</td>\n",
              "      <td>2240.0</td>\n",
              "      <td>2746.0</td>\n",
              "      <td>3687.0</td>\n",
              "      <td>5293.0</td>\n",
              "      <td>2740.0</td>\n",
              "      <td>0.0</td>\n",
              "      <td>0.0</td>\n",
              "    </tr>\n",
              "    <tr>\n",
              "      <th>2</th>\n",
              "      <td>0.0</td>\n",
              "      <td>0.0</td>\n",
              "      <td>47.0</td>\n",
              "      <td>48.0</td>\n",
              "      <td>101.0</td>\n",
              "      <td>758353.0</td>\n",
              "      <td>383745.0</td>\n",
              "      <td>201999.0</td>\n",
              "      <td>62107.0</td>\n",
              "      <td>36293.0</td>\n",
              "      <td>130536.0</td>\n",
              "      <td>57243.0</td>\n",
              "      <td>25354.0</td>\n",
              "      <td>0.0</td>\n",
              "      <td>0.0</td>\n",
              "    </tr>\n",
              "    <tr>\n",
              "      <th>3</th>\n",
              "      <td>0.0</td>\n",
              "      <td>0.0</td>\n",
              "      <td>47.0</td>\n",
              "      <td>57.0</td>\n",
              "      <td>-5.0</td>\n",
              "      <td>2012240.0</td>\n",
              "      <td>129350.0</td>\n",
              "      <td>61236.0</td>\n",
              "      <td>17084.0</td>\n",
              "      <td>11488.0</td>\n",
              "      <td>62462.0</td>\n",
              "      <td>49960.0</td>\n",
              "      <td>33932.0</td>\n",
              "      <td>0.0</td>\n",
              "      <td>0.0</td>\n",
              "    </tr>\n",
              "    <tr>\n",
              "      <th>4</th>\n",
              "      <td>0.0</td>\n",
              "      <td>0.0</td>\n",
              "      <td>44.0</td>\n",
              "      <td>53.0</td>\n",
              "      <td>-8.0</td>\n",
              "      <td>1005145.0</td>\n",
              "      <td>354328.0</td>\n",
              "      <td>37102.0</td>\n",
              "      <td>88881.0</td>\n",
              "      <td>45307.0</td>\n",
              "      <td>99603.0</td>\n",
              "      <td>44790.0</td>\n",
              "      <td>29749.0</td>\n",
              "      <td>0.0</td>\n",
              "      <td>0.0</td>\n",
              "    </tr>\n",
              "  </tbody>\n",
              "</table>\n",
              "</div>"
            ],
            "text/plain": [
              "   SubjectID  VideoID  Attention  ...   Gamma2  predefinedlabel  user-definedlabeln\n",
              "0        0.0      0.0       56.0  ...   8293.0              0.0                 0.0\n",
              "1        0.0      0.0       40.0  ...   2740.0              0.0                 0.0\n",
              "2        0.0      0.0       47.0  ...  25354.0              0.0                 0.0\n",
              "3        0.0      0.0       47.0  ...  33932.0              0.0                 0.0\n",
              "4        0.0      0.0       44.0  ...  29749.0              0.0                 0.0\n",
              "\n",
              "[5 rows x 15 columns]"
            ]
          },
          "metadata": {
            "tags": []
          },
          "execution_count": 96
        }
      ]
    },
    {
      "cell_type": "code",
      "metadata": {
        "id": "81Ms0NplQ2Hv",
        "outputId": "77aafc4c-4e2d-448c-c028-440ccef5f911",
        "colab": {
          "base_uri": "https://localhost:8080/",
          "height": 204
        }
      },
      "source": [
        "info_df.head()"
      ],
      "execution_count": 97,
      "outputs": [
        {
          "output_type": "execute_result",
          "data": {
            "text/html": [
              "<div>\n",
              "<style scoped>\n",
              "    .dataframe tbody tr th:only-of-type {\n",
              "        vertical-align: middle;\n",
              "    }\n",
              "\n",
              "    .dataframe tbody tr th {\n",
              "        vertical-align: top;\n",
              "    }\n",
              "\n",
              "    .dataframe thead th {\n",
              "        text-align: right;\n",
              "    }\n",
              "</style>\n",
              "<table border=\"1\" class=\"dataframe\">\n",
              "  <thead>\n",
              "    <tr style=\"text-align: right;\">\n",
              "      <th></th>\n",
              "      <th>subject ID</th>\n",
              "      <th>age</th>\n",
              "      <th>ethnicity</th>\n",
              "      <th>gender</th>\n",
              "    </tr>\n",
              "  </thead>\n",
              "  <tbody>\n",
              "    <tr>\n",
              "      <th>0</th>\n",
              "      <td>0</td>\n",
              "      <td>25</td>\n",
              "      <td>Han Chinese</td>\n",
              "      <td>M</td>\n",
              "    </tr>\n",
              "    <tr>\n",
              "      <th>1</th>\n",
              "      <td>1</td>\n",
              "      <td>24</td>\n",
              "      <td>Han Chinese</td>\n",
              "      <td>M</td>\n",
              "    </tr>\n",
              "    <tr>\n",
              "      <th>2</th>\n",
              "      <td>2</td>\n",
              "      <td>31</td>\n",
              "      <td>English</td>\n",
              "      <td>M</td>\n",
              "    </tr>\n",
              "    <tr>\n",
              "      <th>3</th>\n",
              "      <td>3</td>\n",
              "      <td>28</td>\n",
              "      <td>Han Chinese</td>\n",
              "      <td>F</td>\n",
              "    </tr>\n",
              "    <tr>\n",
              "      <th>4</th>\n",
              "      <td>4</td>\n",
              "      <td>24</td>\n",
              "      <td>Bengali</td>\n",
              "      <td>M</td>\n",
              "    </tr>\n",
              "  </tbody>\n",
              "</table>\n",
              "</div>"
            ],
            "text/plain": [
              "   subject ID   age    ethnicity  gender\n",
              "0           0    25  Han Chinese       M\n",
              "1           1    24  Han Chinese       M\n",
              "2           2    31      English       M\n",
              "3           3    28  Han Chinese       F\n",
              "4           4    24      Bengali       M"
            ]
          },
          "metadata": {
            "tags": []
          },
          "execution_count": 97
        }
      ]
    },
    {
      "cell_type": "markdown",
      "metadata": {
        "id": "X1sbeuIXSF6Z"
      },
      "source": [
        "## Merge the data"
      ]
    },
    {
      "cell_type": "code",
      "metadata": {
        "id": "SQyUsFYpQ5aE"
      },
      "source": [
        "info_df.rename(columns = {'subject ID' : 'SubjectID'}, inplace=True)\r\n",
        "\r\n",
        "data = info_df.merge(eeg_df, on='SubjectID')"
      ],
      "execution_count": 98,
      "outputs": []
    },
    {
      "cell_type": "code",
      "metadata": {
        "id": "UWLOhZjUSEmE",
        "outputId": "e862c30f-b0b0-470d-bb75-31c4982bad5b",
        "colab": {
          "base_uri": "https://localhost:8080/",
          "height": 0
        }
      },
      "source": [
        "data"
      ],
      "execution_count": 99,
      "outputs": [
        {
          "output_type": "execute_result",
          "data": {
            "text/html": [
              "<div>\n",
              "<style scoped>\n",
              "    .dataframe tbody tr th:only-of-type {\n",
              "        vertical-align: middle;\n",
              "    }\n",
              "\n",
              "    .dataframe tbody tr th {\n",
              "        vertical-align: top;\n",
              "    }\n",
              "\n",
              "    .dataframe thead th {\n",
              "        text-align: right;\n",
              "    }\n",
              "</style>\n",
              "<table border=\"1\" class=\"dataframe\">\n",
              "  <thead>\n",
              "    <tr style=\"text-align: right;\">\n",
              "      <th></th>\n",
              "      <th>SubjectID</th>\n",
              "      <th>age</th>\n",
              "      <th>ethnicity</th>\n",
              "      <th>gender</th>\n",
              "      <th>VideoID</th>\n",
              "      <th>Attention</th>\n",
              "      <th>Mediation</th>\n",
              "      <th>Raw</th>\n",
              "      <th>Delta</th>\n",
              "      <th>Theta</th>\n",
              "      <th>Alpha1</th>\n",
              "      <th>Alpha2</th>\n",
              "      <th>Beta1</th>\n",
              "      <th>Beta2</th>\n",
              "      <th>Gamma1</th>\n",
              "      <th>Gamma2</th>\n",
              "      <th>predefinedlabel</th>\n",
              "      <th>user-definedlabeln</th>\n",
              "    </tr>\n",
              "  </thead>\n",
              "  <tbody>\n",
              "    <tr>\n",
              "      <th>0</th>\n",
              "      <td>0</td>\n",
              "      <td>25</td>\n",
              "      <td>Han Chinese</td>\n",
              "      <td>M</td>\n",
              "      <td>0.0</td>\n",
              "      <td>56.0</td>\n",
              "      <td>43.0</td>\n",
              "      <td>278.0</td>\n",
              "      <td>301963.0</td>\n",
              "      <td>90612.0</td>\n",
              "      <td>33735.0</td>\n",
              "      <td>23991.0</td>\n",
              "      <td>27946.0</td>\n",
              "      <td>45097.0</td>\n",
              "      <td>33228.0</td>\n",
              "      <td>8293.0</td>\n",
              "      <td>0.0</td>\n",
              "      <td>0.0</td>\n",
              "    </tr>\n",
              "    <tr>\n",
              "      <th>1</th>\n",
              "      <td>0</td>\n",
              "      <td>25</td>\n",
              "      <td>Han Chinese</td>\n",
              "      <td>M</td>\n",
              "      <td>0.0</td>\n",
              "      <td>40.0</td>\n",
              "      <td>35.0</td>\n",
              "      <td>-50.0</td>\n",
              "      <td>73787.0</td>\n",
              "      <td>28083.0</td>\n",
              "      <td>1439.0</td>\n",
              "      <td>2240.0</td>\n",
              "      <td>2746.0</td>\n",
              "      <td>3687.0</td>\n",
              "      <td>5293.0</td>\n",
              "      <td>2740.0</td>\n",
              "      <td>0.0</td>\n",
              "      <td>0.0</td>\n",
              "    </tr>\n",
              "    <tr>\n",
              "      <th>2</th>\n",
              "      <td>0</td>\n",
              "      <td>25</td>\n",
              "      <td>Han Chinese</td>\n",
              "      <td>M</td>\n",
              "      <td>0.0</td>\n",
              "      <td>47.0</td>\n",
              "      <td>48.0</td>\n",
              "      <td>101.0</td>\n",
              "      <td>758353.0</td>\n",
              "      <td>383745.0</td>\n",
              "      <td>201999.0</td>\n",
              "      <td>62107.0</td>\n",
              "      <td>36293.0</td>\n",
              "      <td>130536.0</td>\n",
              "      <td>57243.0</td>\n",
              "      <td>25354.0</td>\n",
              "      <td>0.0</td>\n",
              "      <td>0.0</td>\n",
              "    </tr>\n",
              "    <tr>\n",
              "      <th>3</th>\n",
              "      <td>0</td>\n",
              "      <td>25</td>\n",
              "      <td>Han Chinese</td>\n",
              "      <td>M</td>\n",
              "      <td>0.0</td>\n",
              "      <td>47.0</td>\n",
              "      <td>57.0</td>\n",
              "      <td>-5.0</td>\n",
              "      <td>2012240.0</td>\n",
              "      <td>129350.0</td>\n",
              "      <td>61236.0</td>\n",
              "      <td>17084.0</td>\n",
              "      <td>11488.0</td>\n",
              "      <td>62462.0</td>\n",
              "      <td>49960.0</td>\n",
              "      <td>33932.0</td>\n",
              "      <td>0.0</td>\n",
              "      <td>0.0</td>\n",
              "    </tr>\n",
              "    <tr>\n",
              "      <th>4</th>\n",
              "      <td>0</td>\n",
              "      <td>25</td>\n",
              "      <td>Han Chinese</td>\n",
              "      <td>M</td>\n",
              "      <td>0.0</td>\n",
              "      <td>44.0</td>\n",
              "      <td>53.0</td>\n",
              "      <td>-8.0</td>\n",
              "      <td>1005145.0</td>\n",
              "      <td>354328.0</td>\n",
              "      <td>37102.0</td>\n",
              "      <td>88881.0</td>\n",
              "      <td>45307.0</td>\n",
              "      <td>99603.0</td>\n",
              "      <td>44790.0</td>\n",
              "      <td>29749.0</td>\n",
              "      <td>0.0</td>\n",
              "      <td>0.0</td>\n",
              "    </tr>\n",
              "    <tr>\n",
              "      <th>...</th>\n",
              "      <td>...</td>\n",
              "      <td>...</td>\n",
              "      <td>...</td>\n",
              "      <td>...</td>\n",
              "      <td>...</td>\n",
              "      <td>...</td>\n",
              "      <td>...</td>\n",
              "      <td>...</td>\n",
              "      <td>...</td>\n",
              "      <td>...</td>\n",
              "      <td>...</td>\n",
              "      <td>...</td>\n",
              "      <td>...</td>\n",
              "      <td>...</td>\n",
              "      <td>...</td>\n",
              "      <td>...</td>\n",
              "      <td>...</td>\n",
              "      <td>...</td>\n",
              "    </tr>\n",
              "    <tr>\n",
              "      <th>5584</th>\n",
              "      <td>4</td>\n",
              "      <td>24</td>\n",
              "      <td>Bengali</td>\n",
              "      <td>M</td>\n",
              "      <td>3.0</td>\n",
              "      <td>44.0</td>\n",
              "      <td>34.0</td>\n",
              "      <td>34.0</td>\n",
              "      <td>337285.0</td>\n",
              "      <td>39017.0</td>\n",
              "      <td>5373.0</td>\n",
              "      <td>4186.0</td>\n",
              "      <td>4827.0</td>\n",
              "      <td>4625.0</td>\n",
              "      <td>2308.0</td>\n",
              "      <td>733.0</td>\n",
              "      <td>0.0</td>\n",
              "      <td>1.0</td>\n",
              "    </tr>\n",
              "    <tr>\n",
              "      <th>5585</th>\n",
              "      <td>4</td>\n",
              "      <td>24</td>\n",
              "      <td>Bengali</td>\n",
              "      <td>M</td>\n",
              "      <td>3.0</td>\n",
              "      <td>26.0</td>\n",
              "      <td>7.0</td>\n",
              "      <td>-51.0</td>\n",
              "      <td>924079.0</td>\n",
              "      <td>185561.0</td>\n",
              "      <td>3406.0</td>\n",
              "      <td>5125.0</td>\n",
              "      <td>10982.0</td>\n",
              "      <td>12217.0</td>\n",
              "      <td>12094.0</td>\n",
              "      <td>13246.0</td>\n",
              "      <td>0.0</td>\n",
              "      <td>1.0</td>\n",
              "    </tr>\n",
              "    <tr>\n",
              "      <th>5586</th>\n",
              "      <td>4</td>\n",
              "      <td>24</td>\n",
              "      <td>Bengali</td>\n",
              "      <td>M</td>\n",
              "      <td>3.0</td>\n",
              "      <td>29.0</td>\n",
              "      <td>23.0</td>\n",
              "      <td>34.0</td>\n",
              "      <td>211892.0</td>\n",
              "      <td>51869.0</td>\n",
              "      <td>31728.0</td>\n",
              "      <td>5757.0</td>\n",
              "      <td>7320.0</td>\n",
              "      <td>6454.0</td>\n",
              "      <td>5977.0</td>\n",
              "      <td>2507.0</td>\n",
              "      <td>0.0</td>\n",
              "      <td>1.0</td>\n",
              "    </tr>\n",
              "    <tr>\n",
              "      <th>5587</th>\n",
              "      <td>4</td>\n",
              "      <td>24</td>\n",
              "      <td>Bengali</td>\n",
              "      <td>M</td>\n",
              "      <td>3.0</td>\n",
              "      <td>37.0</td>\n",
              "      <td>17.0</td>\n",
              "      <td>76.0</td>\n",
              "      <td>1964577.0</td>\n",
              "      <td>313204.0</td>\n",
              "      <td>56834.0</td>\n",
              "      <td>20616.0</td>\n",
              "      <td>95236.0</td>\n",
              "      <td>86877.0</td>\n",
              "      <td>12461.0</td>\n",
              "      <td>7061.0</td>\n",
              "      <td>0.0</td>\n",
              "      <td>1.0</td>\n",
              "    </tr>\n",
              "    <tr>\n",
              "      <th>5588</th>\n",
              "      <td>4</td>\n",
              "      <td>24</td>\n",
              "      <td>Bengali</td>\n",
              "      <td>M</td>\n",
              "      <td>3.0</td>\n",
              "      <td>37.0</td>\n",
              "      <td>30.0</td>\n",
              "      <td>5.0</td>\n",
              "      <td>NaN</td>\n",
              "      <td>NaN</td>\n",
              "      <td>NaN</td>\n",
              "      <td>NaN</td>\n",
              "      <td>NaN</td>\n",
              "      <td>NaN</td>\n",
              "      <td>NaN</td>\n",
              "      <td>NaN</td>\n",
              "      <td>NaN</td>\n",
              "      <td>NaN</td>\n",
              "    </tr>\n",
              "  </tbody>\n",
              "</table>\n",
              "<p>5589 rows × 18 columns</p>\n",
              "</div>"
            ],
            "text/plain": [
              "      SubjectID   age  ... predefinedlabel user-definedlabeln\n",
              "0             0    25  ...             0.0                0.0\n",
              "1             0    25  ...             0.0                0.0\n",
              "2             0    25  ...             0.0                0.0\n",
              "3             0    25  ...             0.0                0.0\n",
              "4             0    25  ...             0.0                0.0\n",
              "...         ...   ...  ...             ...                ...\n",
              "5584          4    24  ...             0.0                1.0\n",
              "5585          4    24  ...             0.0                1.0\n",
              "5586          4    24  ...             0.0                1.0\n",
              "5587          4    24  ...             0.0                1.0\n",
              "5588          4    24  ...             NaN                NaN\n",
              "\n",
              "[5589 rows x 18 columns]"
            ]
          },
          "metadata": {
            "tags": []
          },
          "execution_count": 99
        }
      ]
    },
    {
      "cell_type": "code",
      "metadata": {
        "id": "YZjIXpsrSPEU",
        "outputId": "15d057d3-5d05-41b1-e8ba-d3b1e65c4665",
        "colab": {
          "base_uri": "https://localhost:8080/"
        }
      },
      "source": [
        "data.info()"
      ],
      "execution_count": 100,
      "outputs": [
        {
          "output_type": "stream",
          "text": [
            "<class 'pandas.core.frame.DataFrame'>\n",
            "Int64Index: 5589 entries, 0 to 5588\n",
            "Data columns (total 18 columns):\n",
            " #   Column              Non-Null Count  Dtype  \n",
            "---  ------              --------------  -----  \n",
            " 0   SubjectID           5589 non-null   int64  \n",
            " 1    age                5589 non-null   int64  \n",
            " 2    ethnicity          5589 non-null   object \n",
            " 3    gender             5589 non-null   object \n",
            " 4   VideoID             5589 non-null   float64\n",
            " 5   Attention           5589 non-null   float64\n",
            " 6   Mediation           5589 non-null   float64\n",
            " 7   Raw                 5589 non-null   float64\n",
            " 8   Delta               5588 non-null   float64\n",
            " 9   Theta               5588 non-null   float64\n",
            " 10  Alpha1              5588 non-null   float64\n",
            " 11  Alpha2              5588 non-null   float64\n",
            " 12  Beta1               5588 non-null   float64\n",
            " 13  Beta2               5588 non-null   float64\n",
            " 14  Gamma1              5588 non-null   float64\n",
            " 15  Gamma2              5588 non-null   float64\n",
            " 16  predefinedlabel     5588 non-null   float64\n",
            " 17  user-definedlabeln  5588 non-null   float64\n",
            "dtypes: float64(14), int64(2), object(2)\n",
            "memory usage: 829.6+ KB\n"
          ],
          "name": "stdout"
        }
      ]
    },
    {
      "cell_type": "markdown",
      "metadata": {
        "id": "EMxKpaYpSska"
      },
      "source": [
        "## Cleaning"
      ]
    },
    {
      "cell_type": "code",
      "metadata": {
        "id": "AOoaSbf0SZEV"
      },
      "source": [
        "data = data.drop(['SubjectID', 'VideoID', 'predefinedlabel'], axis=1)"
      ],
      "execution_count": 101,
      "outputs": []
    },
    {
      "cell_type": "code",
      "metadata": {
        "id": "4al_w393TJhy",
        "outputId": "d85cb5a7-4971-4438-a65c-b329a9a60480",
        "colab": {
          "base_uri": "https://localhost:8080/",
          "height": 326
        }
      },
      "source": [
        "data.head(5)"
      ],
      "execution_count": 102,
      "outputs": [
        {
          "output_type": "execute_result",
          "data": {
            "text/html": [
              "<div>\n",
              "<style scoped>\n",
              "    .dataframe tbody tr th:only-of-type {\n",
              "        vertical-align: middle;\n",
              "    }\n",
              "\n",
              "    .dataframe tbody tr th {\n",
              "        vertical-align: top;\n",
              "    }\n",
              "\n",
              "    .dataframe thead th {\n",
              "        text-align: right;\n",
              "    }\n",
              "</style>\n",
              "<table border=\"1\" class=\"dataframe\">\n",
              "  <thead>\n",
              "    <tr style=\"text-align: right;\">\n",
              "      <th></th>\n",
              "      <th>age</th>\n",
              "      <th>ethnicity</th>\n",
              "      <th>gender</th>\n",
              "      <th>Attention</th>\n",
              "      <th>Mediation</th>\n",
              "      <th>Raw</th>\n",
              "      <th>Delta</th>\n",
              "      <th>Theta</th>\n",
              "      <th>Alpha1</th>\n",
              "      <th>Alpha2</th>\n",
              "      <th>Beta1</th>\n",
              "      <th>Beta2</th>\n",
              "      <th>Gamma1</th>\n",
              "      <th>Gamma2</th>\n",
              "      <th>user-definedlabeln</th>\n",
              "    </tr>\n",
              "  </thead>\n",
              "  <tbody>\n",
              "    <tr>\n",
              "      <th>0</th>\n",
              "      <td>25</td>\n",
              "      <td>Han Chinese</td>\n",
              "      <td>M</td>\n",
              "      <td>56.0</td>\n",
              "      <td>43.0</td>\n",
              "      <td>278.0</td>\n",
              "      <td>301963.0</td>\n",
              "      <td>90612.0</td>\n",
              "      <td>33735.0</td>\n",
              "      <td>23991.0</td>\n",
              "      <td>27946.0</td>\n",
              "      <td>45097.0</td>\n",
              "      <td>33228.0</td>\n",
              "      <td>8293.0</td>\n",
              "      <td>0.0</td>\n",
              "    </tr>\n",
              "    <tr>\n",
              "      <th>1</th>\n",
              "      <td>25</td>\n",
              "      <td>Han Chinese</td>\n",
              "      <td>M</td>\n",
              "      <td>40.0</td>\n",
              "      <td>35.0</td>\n",
              "      <td>-50.0</td>\n",
              "      <td>73787.0</td>\n",
              "      <td>28083.0</td>\n",
              "      <td>1439.0</td>\n",
              "      <td>2240.0</td>\n",
              "      <td>2746.0</td>\n",
              "      <td>3687.0</td>\n",
              "      <td>5293.0</td>\n",
              "      <td>2740.0</td>\n",
              "      <td>0.0</td>\n",
              "    </tr>\n",
              "    <tr>\n",
              "      <th>2</th>\n",
              "      <td>25</td>\n",
              "      <td>Han Chinese</td>\n",
              "      <td>M</td>\n",
              "      <td>47.0</td>\n",
              "      <td>48.0</td>\n",
              "      <td>101.0</td>\n",
              "      <td>758353.0</td>\n",
              "      <td>383745.0</td>\n",
              "      <td>201999.0</td>\n",
              "      <td>62107.0</td>\n",
              "      <td>36293.0</td>\n",
              "      <td>130536.0</td>\n",
              "      <td>57243.0</td>\n",
              "      <td>25354.0</td>\n",
              "      <td>0.0</td>\n",
              "    </tr>\n",
              "    <tr>\n",
              "      <th>3</th>\n",
              "      <td>25</td>\n",
              "      <td>Han Chinese</td>\n",
              "      <td>M</td>\n",
              "      <td>47.0</td>\n",
              "      <td>57.0</td>\n",
              "      <td>-5.0</td>\n",
              "      <td>2012240.0</td>\n",
              "      <td>129350.0</td>\n",
              "      <td>61236.0</td>\n",
              "      <td>17084.0</td>\n",
              "      <td>11488.0</td>\n",
              "      <td>62462.0</td>\n",
              "      <td>49960.0</td>\n",
              "      <td>33932.0</td>\n",
              "      <td>0.0</td>\n",
              "    </tr>\n",
              "    <tr>\n",
              "      <th>4</th>\n",
              "      <td>25</td>\n",
              "      <td>Han Chinese</td>\n",
              "      <td>M</td>\n",
              "      <td>44.0</td>\n",
              "      <td>53.0</td>\n",
              "      <td>-8.0</td>\n",
              "      <td>1005145.0</td>\n",
              "      <td>354328.0</td>\n",
              "      <td>37102.0</td>\n",
              "      <td>88881.0</td>\n",
              "      <td>45307.0</td>\n",
              "      <td>99603.0</td>\n",
              "      <td>44790.0</td>\n",
              "      <td>29749.0</td>\n",
              "      <td>0.0</td>\n",
              "    </tr>\n",
              "  </tbody>\n",
              "</table>\n",
              "</div>"
            ],
            "text/plain": [
              "    age    ethnicity  gender  ...   Gamma1   Gamma2  user-definedlabeln\n",
              "0    25  Han Chinese       M  ...  33228.0   8293.0                 0.0\n",
              "1    25  Han Chinese       M  ...   5293.0   2740.0                 0.0\n",
              "2    25  Han Chinese       M  ...  57243.0  25354.0                 0.0\n",
              "3    25  Han Chinese       M  ...  49960.0  33932.0                 0.0\n",
              "4    25  Han Chinese       M  ...  44790.0  29749.0                 0.0\n",
              "\n",
              "[5 rows x 15 columns]"
            ]
          },
          "metadata": {
            "tags": []
          },
          "execution_count": 102
        }
      ]
    },
    {
      "cell_type": "code",
      "metadata": {
        "id": "3AvbZeAcTOO9",
        "outputId": "9cbc516a-a2a6-42a2-8c65-8fae9f43da6e",
        "colab": {
          "base_uri": "https://localhost:8080/"
        }
      },
      "source": [
        "data.columns"
      ],
      "execution_count": 103,
      "outputs": [
        {
          "output_type": "execute_result",
          "data": {
            "text/plain": [
              "Index([' age', ' ethnicity', ' gender', 'Attention', 'Mediation', 'Raw',\n",
              "       'Delta', 'Theta', 'Alpha1', 'Alpha2', 'Beta1', 'Beta2', 'Gamma1',\n",
              "       'Gamma2', 'user-definedlabeln'],\n",
              "      dtype='object')"
            ]
          },
          "metadata": {
            "tags": []
          },
          "execution_count": 103
        }
      ]
    },
    {
      "cell_type": "code",
      "metadata": {
        "id": "Z5tqXwf8UGfo"
      },
      "source": [
        "data.rename(columns={' age':'Age', ' ethnicity':'Ethnicity', ' gender':'Gender', 'user-definedlabeln':'Label'}, inplace=True)"
      ],
      "execution_count": 104,
      "outputs": []
    },
    {
      "cell_type": "code",
      "metadata": {
        "id": "BQGJDRMMW6Ln",
        "outputId": "b4fa3de5-1656-4dca-f899-c6a7a8be6039",
        "colab": {
          "base_uri": "https://localhost:8080/",
          "height": 524
        }
      },
      "source": [
        "data"
      ],
      "execution_count": 105,
      "outputs": [
        {
          "output_type": "execute_result",
          "data": {
            "text/html": [
              "<div>\n",
              "<style scoped>\n",
              "    .dataframe tbody tr th:only-of-type {\n",
              "        vertical-align: middle;\n",
              "    }\n",
              "\n",
              "    .dataframe tbody tr th {\n",
              "        vertical-align: top;\n",
              "    }\n",
              "\n",
              "    .dataframe thead th {\n",
              "        text-align: right;\n",
              "    }\n",
              "</style>\n",
              "<table border=\"1\" class=\"dataframe\">\n",
              "  <thead>\n",
              "    <tr style=\"text-align: right;\">\n",
              "      <th></th>\n",
              "      <th>Age</th>\n",
              "      <th>Ethnicity</th>\n",
              "      <th>Gender</th>\n",
              "      <th>Attention</th>\n",
              "      <th>Mediation</th>\n",
              "      <th>Raw</th>\n",
              "      <th>Delta</th>\n",
              "      <th>Theta</th>\n",
              "      <th>Alpha1</th>\n",
              "      <th>Alpha2</th>\n",
              "      <th>Beta1</th>\n",
              "      <th>Beta2</th>\n",
              "      <th>Gamma1</th>\n",
              "      <th>Gamma2</th>\n",
              "      <th>Label</th>\n",
              "    </tr>\n",
              "  </thead>\n",
              "  <tbody>\n",
              "    <tr>\n",
              "      <th>0</th>\n",
              "      <td>25</td>\n",
              "      <td>Han Chinese</td>\n",
              "      <td>M</td>\n",
              "      <td>56.0</td>\n",
              "      <td>43.0</td>\n",
              "      <td>278.0</td>\n",
              "      <td>301963.0</td>\n",
              "      <td>90612.0</td>\n",
              "      <td>33735.0</td>\n",
              "      <td>23991.0</td>\n",
              "      <td>27946.0</td>\n",
              "      <td>45097.0</td>\n",
              "      <td>33228.0</td>\n",
              "      <td>8293.0</td>\n",
              "      <td>0.0</td>\n",
              "    </tr>\n",
              "    <tr>\n",
              "      <th>1</th>\n",
              "      <td>25</td>\n",
              "      <td>Han Chinese</td>\n",
              "      <td>M</td>\n",
              "      <td>40.0</td>\n",
              "      <td>35.0</td>\n",
              "      <td>-50.0</td>\n",
              "      <td>73787.0</td>\n",
              "      <td>28083.0</td>\n",
              "      <td>1439.0</td>\n",
              "      <td>2240.0</td>\n",
              "      <td>2746.0</td>\n",
              "      <td>3687.0</td>\n",
              "      <td>5293.0</td>\n",
              "      <td>2740.0</td>\n",
              "      <td>0.0</td>\n",
              "    </tr>\n",
              "    <tr>\n",
              "      <th>2</th>\n",
              "      <td>25</td>\n",
              "      <td>Han Chinese</td>\n",
              "      <td>M</td>\n",
              "      <td>47.0</td>\n",
              "      <td>48.0</td>\n",
              "      <td>101.0</td>\n",
              "      <td>758353.0</td>\n",
              "      <td>383745.0</td>\n",
              "      <td>201999.0</td>\n",
              "      <td>62107.0</td>\n",
              "      <td>36293.0</td>\n",
              "      <td>130536.0</td>\n",
              "      <td>57243.0</td>\n",
              "      <td>25354.0</td>\n",
              "      <td>0.0</td>\n",
              "    </tr>\n",
              "    <tr>\n",
              "      <th>3</th>\n",
              "      <td>25</td>\n",
              "      <td>Han Chinese</td>\n",
              "      <td>M</td>\n",
              "      <td>47.0</td>\n",
              "      <td>57.0</td>\n",
              "      <td>-5.0</td>\n",
              "      <td>2012240.0</td>\n",
              "      <td>129350.0</td>\n",
              "      <td>61236.0</td>\n",
              "      <td>17084.0</td>\n",
              "      <td>11488.0</td>\n",
              "      <td>62462.0</td>\n",
              "      <td>49960.0</td>\n",
              "      <td>33932.0</td>\n",
              "      <td>0.0</td>\n",
              "    </tr>\n",
              "    <tr>\n",
              "      <th>4</th>\n",
              "      <td>25</td>\n",
              "      <td>Han Chinese</td>\n",
              "      <td>M</td>\n",
              "      <td>44.0</td>\n",
              "      <td>53.0</td>\n",
              "      <td>-8.0</td>\n",
              "      <td>1005145.0</td>\n",
              "      <td>354328.0</td>\n",
              "      <td>37102.0</td>\n",
              "      <td>88881.0</td>\n",
              "      <td>45307.0</td>\n",
              "      <td>99603.0</td>\n",
              "      <td>44790.0</td>\n",
              "      <td>29749.0</td>\n",
              "      <td>0.0</td>\n",
              "    </tr>\n",
              "    <tr>\n",
              "      <th>...</th>\n",
              "      <td>...</td>\n",
              "      <td>...</td>\n",
              "      <td>...</td>\n",
              "      <td>...</td>\n",
              "      <td>...</td>\n",
              "      <td>...</td>\n",
              "      <td>...</td>\n",
              "      <td>...</td>\n",
              "      <td>...</td>\n",
              "      <td>...</td>\n",
              "      <td>...</td>\n",
              "      <td>...</td>\n",
              "      <td>...</td>\n",
              "      <td>...</td>\n",
              "      <td>...</td>\n",
              "    </tr>\n",
              "    <tr>\n",
              "      <th>5584</th>\n",
              "      <td>24</td>\n",
              "      <td>Bengali</td>\n",
              "      <td>M</td>\n",
              "      <td>44.0</td>\n",
              "      <td>34.0</td>\n",
              "      <td>34.0</td>\n",
              "      <td>337285.0</td>\n",
              "      <td>39017.0</td>\n",
              "      <td>5373.0</td>\n",
              "      <td>4186.0</td>\n",
              "      <td>4827.0</td>\n",
              "      <td>4625.0</td>\n",
              "      <td>2308.0</td>\n",
              "      <td>733.0</td>\n",
              "      <td>1.0</td>\n",
              "    </tr>\n",
              "    <tr>\n",
              "      <th>5585</th>\n",
              "      <td>24</td>\n",
              "      <td>Bengali</td>\n",
              "      <td>M</td>\n",
              "      <td>26.0</td>\n",
              "      <td>7.0</td>\n",
              "      <td>-51.0</td>\n",
              "      <td>924079.0</td>\n",
              "      <td>185561.0</td>\n",
              "      <td>3406.0</td>\n",
              "      <td>5125.0</td>\n",
              "      <td>10982.0</td>\n",
              "      <td>12217.0</td>\n",
              "      <td>12094.0</td>\n",
              "      <td>13246.0</td>\n",
              "      <td>1.0</td>\n",
              "    </tr>\n",
              "    <tr>\n",
              "      <th>5586</th>\n",
              "      <td>24</td>\n",
              "      <td>Bengali</td>\n",
              "      <td>M</td>\n",
              "      <td>29.0</td>\n",
              "      <td>23.0</td>\n",
              "      <td>34.0</td>\n",
              "      <td>211892.0</td>\n",
              "      <td>51869.0</td>\n",
              "      <td>31728.0</td>\n",
              "      <td>5757.0</td>\n",
              "      <td>7320.0</td>\n",
              "      <td>6454.0</td>\n",
              "      <td>5977.0</td>\n",
              "      <td>2507.0</td>\n",
              "      <td>1.0</td>\n",
              "    </tr>\n",
              "    <tr>\n",
              "      <th>5587</th>\n",
              "      <td>24</td>\n",
              "      <td>Bengali</td>\n",
              "      <td>M</td>\n",
              "      <td>37.0</td>\n",
              "      <td>17.0</td>\n",
              "      <td>76.0</td>\n",
              "      <td>1964577.0</td>\n",
              "      <td>313204.0</td>\n",
              "      <td>56834.0</td>\n",
              "      <td>20616.0</td>\n",
              "      <td>95236.0</td>\n",
              "      <td>86877.0</td>\n",
              "      <td>12461.0</td>\n",
              "      <td>7061.0</td>\n",
              "      <td>1.0</td>\n",
              "    </tr>\n",
              "    <tr>\n",
              "      <th>5588</th>\n",
              "      <td>24</td>\n",
              "      <td>Bengali</td>\n",
              "      <td>M</td>\n",
              "      <td>37.0</td>\n",
              "      <td>30.0</td>\n",
              "      <td>5.0</td>\n",
              "      <td>NaN</td>\n",
              "      <td>NaN</td>\n",
              "      <td>NaN</td>\n",
              "      <td>NaN</td>\n",
              "      <td>NaN</td>\n",
              "      <td>NaN</td>\n",
              "      <td>NaN</td>\n",
              "      <td>NaN</td>\n",
              "      <td>NaN</td>\n",
              "    </tr>\n",
              "  </tbody>\n",
              "</table>\n",
              "<p>5589 rows × 15 columns</p>\n",
              "</div>"
            ],
            "text/plain": [
              "      Age    Ethnicity Gender  Attention  ...     Beta2   Gamma1   Gamma2  Label\n",
              "0      25  Han Chinese      M       56.0  ...   45097.0  33228.0   8293.0    0.0\n",
              "1      25  Han Chinese      M       40.0  ...    3687.0   5293.0   2740.0    0.0\n",
              "2      25  Han Chinese      M       47.0  ...  130536.0  57243.0  25354.0    0.0\n",
              "3      25  Han Chinese      M       47.0  ...   62462.0  49960.0  33932.0    0.0\n",
              "4      25  Han Chinese      M       44.0  ...   99603.0  44790.0  29749.0    0.0\n",
              "...   ...          ...    ...        ...  ...       ...      ...      ...    ...\n",
              "5584   24      Bengali      M       44.0  ...    4625.0   2308.0    733.0    1.0\n",
              "5585   24      Bengali      M       26.0  ...   12217.0  12094.0  13246.0    1.0\n",
              "5586   24      Bengali      M       29.0  ...    6454.0   5977.0   2507.0    1.0\n",
              "5587   24      Bengali      M       37.0  ...   86877.0  12461.0   7061.0    1.0\n",
              "5588   24      Bengali      M       37.0  ...       NaN      NaN      NaN    NaN\n",
              "\n",
              "[5589 rows x 15 columns]"
            ]
          },
          "metadata": {
            "tags": []
          },
          "execution_count": 105
        }
      ]
    },
    {
      "cell_type": "code",
      "metadata": {
        "id": "ClgZM_Z6VZV4",
        "outputId": "d1ffa8f8-e4d0-4cc7-d88c-7236819e8f19",
        "colab": {
          "base_uri": "https://localhost:8080/"
        }
      },
      "source": [
        "print(\"Missing values:\", data.isna().sum().sum())"
      ],
      "execution_count": 106,
      "outputs": [
        {
          "output_type": "stream",
          "text": [
            "Missing values: 9\n"
          ],
          "name": "stdout"
        }
      ]
    },
    {
      "cell_type": "markdown",
      "metadata": {
        "id": "g-y8KJzaXQQK"
      },
      "source": [
        "##Encoding Features"
      ]
    },
    {
      "cell_type": "code",
      "metadata": {
        "id": "lwhYFU5PXTH8",
        "outputId": "b3dedaa6-1a4e-4df4-e6f8-1382f301822e",
        "colab": {
          "base_uri": "https://localhost:8080/"
        }
      },
      "source": [
        "data['Gender'].unique()"
      ],
      "execution_count": 107,
      "outputs": [
        {
          "output_type": "execute_result",
          "data": {
            "text/plain": [
              "array(['M', 'F'], dtype=object)"
            ]
          },
          "metadata": {
            "tags": []
          },
          "execution_count": 107
        }
      ]
    },
    {
      "cell_type": "code",
      "metadata": {
        "id": "WSatIshKXZXJ"
      },
      "source": [
        "data['Gender'] = data['Gender'].apply(lambda x : 1 if x == 'M' else 0)"
      ],
      "execution_count": 108,
      "outputs": []
    },
    {
      "cell_type": "code",
      "metadata": {
        "id": "aexwPptvXufG",
        "outputId": "7a6bcdfc-fb3f-4dc2-b69e-d3a4390e3c11",
        "colab": {
          "base_uri": "https://localhost:8080/"
        }
      },
      "source": [
        "data['Ethnicity'].unique()"
      ],
      "execution_count": 109,
      "outputs": [
        {
          "output_type": "execute_result",
          "data": {
            "text/plain": [
              "array(['Han Chinese', 'English', 'Bengali'], dtype=object)"
            ]
          },
          "metadata": {
            "tags": []
          },
          "execution_count": 109
        }
      ]
    },
    {
      "cell_type": "code",
      "metadata": {
        "id": "xf1J4TK3X6zZ"
      },
      "source": [
        "ethnicity_dummies = pd.get_dummies(data['Ethnicity'])\r\n",
        "data = pd.concat([data, ethnicity_dummies], axis=1)\r\n",
        "data = data.drop('Ethnicity', axis=1)"
      ],
      "execution_count": 110,
      "outputs": []
    },
    {
      "cell_type": "code",
      "metadata": {
        "id": "ZvhTB5YEZIgk",
        "outputId": "645e59ff-8e2f-4e8f-94ef-d84dd14b2549",
        "colab": {
          "base_uri": "https://localhost:8080/",
          "height": 456
        }
      },
      "source": [
        "data"
      ],
      "execution_count": 111,
      "outputs": [
        {
          "output_type": "execute_result",
          "data": {
            "text/html": [
              "<div>\n",
              "<style scoped>\n",
              "    .dataframe tbody tr th:only-of-type {\n",
              "        vertical-align: middle;\n",
              "    }\n",
              "\n",
              "    .dataframe tbody tr th {\n",
              "        vertical-align: top;\n",
              "    }\n",
              "\n",
              "    .dataframe thead th {\n",
              "        text-align: right;\n",
              "    }\n",
              "</style>\n",
              "<table border=\"1\" class=\"dataframe\">\n",
              "  <thead>\n",
              "    <tr style=\"text-align: right;\">\n",
              "      <th></th>\n",
              "      <th>Age</th>\n",
              "      <th>Gender</th>\n",
              "      <th>Attention</th>\n",
              "      <th>Mediation</th>\n",
              "      <th>Raw</th>\n",
              "      <th>Delta</th>\n",
              "      <th>Theta</th>\n",
              "      <th>Alpha1</th>\n",
              "      <th>Alpha2</th>\n",
              "      <th>Beta1</th>\n",
              "      <th>Beta2</th>\n",
              "      <th>Gamma1</th>\n",
              "      <th>Gamma2</th>\n",
              "      <th>Label</th>\n",
              "      <th>Bengali</th>\n",
              "      <th>English</th>\n",
              "      <th>Han Chinese</th>\n",
              "    </tr>\n",
              "  </thead>\n",
              "  <tbody>\n",
              "    <tr>\n",
              "      <th>0</th>\n",
              "      <td>25</td>\n",
              "      <td>1</td>\n",
              "      <td>56.0</td>\n",
              "      <td>43.0</td>\n",
              "      <td>278.0</td>\n",
              "      <td>301963.0</td>\n",
              "      <td>90612.0</td>\n",
              "      <td>33735.0</td>\n",
              "      <td>23991.0</td>\n",
              "      <td>27946.0</td>\n",
              "      <td>45097.0</td>\n",
              "      <td>33228.0</td>\n",
              "      <td>8293.0</td>\n",
              "      <td>0.0</td>\n",
              "      <td>0</td>\n",
              "      <td>0</td>\n",
              "      <td>1</td>\n",
              "    </tr>\n",
              "    <tr>\n",
              "      <th>1</th>\n",
              "      <td>25</td>\n",
              "      <td>1</td>\n",
              "      <td>40.0</td>\n",
              "      <td>35.0</td>\n",
              "      <td>-50.0</td>\n",
              "      <td>73787.0</td>\n",
              "      <td>28083.0</td>\n",
              "      <td>1439.0</td>\n",
              "      <td>2240.0</td>\n",
              "      <td>2746.0</td>\n",
              "      <td>3687.0</td>\n",
              "      <td>5293.0</td>\n",
              "      <td>2740.0</td>\n",
              "      <td>0.0</td>\n",
              "      <td>0</td>\n",
              "      <td>0</td>\n",
              "      <td>1</td>\n",
              "    </tr>\n",
              "    <tr>\n",
              "      <th>2</th>\n",
              "      <td>25</td>\n",
              "      <td>1</td>\n",
              "      <td>47.0</td>\n",
              "      <td>48.0</td>\n",
              "      <td>101.0</td>\n",
              "      <td>758353.0</td>\n",
              "      <td>383745.0</td>\n",
              "      <td>201999.0</td>\n",
              "      <td>62107.0</td>\n",
              "      <td>36293.0</td>\n",
              "      <td>130536.0</td>\n",
              "      <td>57243.0</td>\n",
              "      <td>25354.0</td>\n",
              "      <td>0.0</td>\n",
              "      <td>0</td>\n",
              "      <td>0</td>\n",
              "      <td>1</td>\n",
              "    </tr>\n",
              "    <tr>\n",
              "      <th>3</th>\n",
              "      <td>25</td>\n",
              "      <td>1</td>\n",
              "      <td>47.0</td>\n",
              "      <td>57.0</td>\n",
              "      <td>-5.0</td>\n",
              "      <td>2012240.0</td>\n",
              "      <td>129350.0</td>\n",
              "      <td>61236.0</td>\n",
              "      <td>17084.0</td>\n",
              "      <td>11488.0</td>\n",
              "      <td>62462.0</td>\n",
              "      <td>49960.0</td>\n",
              "      <td>33932.0</td>\n",
              "      <td>0.0</td>\n",
              "      <td>0</td>\n",
              "      <td>0</td>\n",
              "      <td>1</td>\n",
              "    </tr>\n",
              "    <tr>\n",
              "      <th>4</th>\n",
              "      <td>25</td>\n",
              "      <td>1</td>\n",
              "      <td>44.0</td>\n",
              "      <td>53.0</td>\n",
              "      <td>-8.0</td>\n",
              "      <td>1005145.0</td>\n",
              "      <td>354328.0</td>\n",
              "      <td>37102.0</td>\n",
              "      <td>88881.0</td>\n",
              "      <td>45307.0</td>\n",
              "      <td>99603.0</td>\n",
              "      <td>44790.0</td>\n",
              "      <td>29749.0</td>\n",
              "      <td>0.0</td>\n",
              "      <td>0</td>\n",
              "      <td>0</td>\n",
              "      <td>1</td>\n",
              "    </tr>\n",
              "    <tr>\n",
              "      <th>...</th>\n",
              "      <td>...</td>\n",
              "      <td>...</td>\n",
              "      <td>...</td>\n",
              "      <td>...</td>\n",
              "      <td>...</td>\n",
              "      <td>...</td>\n",
              "      <td>...</td>\n",
              "      <td>...</td>\n",
              "      <td>...</td>\n",
              "      <td>...</td>\n",
              "      <td>...</td>\n",
              "      <td>...</td>\n",
              "      <td>...</td>\n",
              "      <td>...</td>\n",
              "      <td>...</td>\n",
              "      <td>...</td>\n",
              "      <td>...</td>\n",
              "    </tr>\n",
              "    <tr>\n",
              "      <th>5584</th>\n",
              "      <td>24</td>\n",
              "      <td>1</td>\n",
              "      <td>44.0</td>\n",
              "      <td>34.0</td>\n",
              "      <td>34.0</td>\n",
              "      <td>337285.0</td>\n",
              "      <td>39017.0</td>\n",
              "      <td>5373.0</td>\n",
              "      <td>4186.0</td>\n",
              "      <td>4827.0</td>\n",
              "      <td>4625.0</td>\n",
              "      <td>2308.0</td>\n",
              "      <td>733.0</td>\n",
              "      <td>1.0</td>\n",
              "      <td>1</td>\n",
              "      <td>0</td>\n",
              "      <td>0</td>\n",
              "    </tr>\n",
              "    <tr>\n",
              "      <th>5585</th>\n",
              "      <td>24</td>\n",
              "      <td>1</td>\n",
              "      <td>26.0</td>\n",
              "      <td>7.0</td>\n",
              "      <td>-51.0</td>\n",
              "      <td>924079.0</td>\n",
              "      <td>185561.0</td>\n",
              "      <td>3406.0</td>\n",
              "      <td>5125.0</td>\n",
              "      <td>10982.0</td>\n",
              "      <td>12217.0</td>\n",
              "      <td>12094.0</td>\n",
              "      <td>13246.0</td>\n",
              "      <td>1.0</td>\n",
              "      <td>1</td>\n",
              "      <td>0</td>\n",
              "      <td>0</td>\n",
              "    </tr>\n",
              "    <tr>\n",
              "      <th>5586</th>\n",
              "      <td>24</td>\n",
              "      <td>1</td>\n",
              "      <td>29.0</td>\n",
              "      <td>23.0</td>\n",
              "      <td>34.0</td>\n",
              "      <td>211892.0</td>\n",
              "      <td>51869.0</td>\n",
              "      <td>31728.0</td>\n",
              "      <td>5757.0</td>\n",
              "      <td>7320.0</td>\n",
              "      <td>6454.0</td>\n",
              "      <td>5977.0</td>\n",
              "      <td>2507.0</td>\n",
              "      <td>1.0</td>\n",
              "      <td>1</td>\n",
              "      <td>0</td>\n",
              "      <td>0</td>\n",
              "    </tr>\n",
              "    <tr>\n",
              "      <th>5587</th>\n",
              "      <td>24</td>\n",
              "      <td>1</td>\n",
              "      <td>37.0</td>\n",
              "      <td>17.0</td>\n",
              "      <td>76.0</td>\n",
              "      <td>1964577.0</td>\n",
              "      <td>313204.0</td>\n",
              "      <td>56834.0</td>\n",
              "      <td>20616.0</td>\n",
              "      <td>95236.0</td>\n",
              "      <td>86877.0</td>\n",
              "      <td>12461.0</td>\n",
              "      <td>7061.0</td>\n",
              "      <td>1.0</td>\n",
              "      <td>1</td>\n",
              "      <td>0</td>\n",
              "      <td>0</td>\n",
              "    </tr>\n",
              "    <tr>\n",
              "      <th>5588</th>\n",
              "      <td>24</td>\n",
              "      <td>1</td>\n",
              "      <td>37.0</td>\n",
              "      <td>30.0</td>\n",
              "      <td>5.0</td>\n",
              "      <td>NaN</td>\n",
              "      <td>NaN</td>\n",
              "      <td>NaN</td>\n",
              "      <td>NaN</td>\n",
              "      <td>NaN</td>\n",
              "      <td>NaN</td>\n",
              "      <td>NaN</td>\n",
              "      <td>NaN</td>\n",
              "      <td>NaN</td>\n",
              "      <td>1</td>\n",
              "      <td>0</td>\n",
              "      <td>0</td>\n",
              "    </tr>\n",
              "  </tbody>\n",
              "</table>\n",
              "<p>5589 rows × 17 columns</p>\n",
              "</div>"
            ],
            "text/plain": [
              "      Age  Gender  Attention  Mediation  ...  Label  Bengali  English  Han Chinese\n",
              "0      25       1       56.0       43.0  ...    0.0        0        0            1\n",
              "1      25       1       40.0       35.0  ...    0.0        0        0            1\n",
              "2      25       1       47.0       48.0  ...    0.0        0        0            1\n",
              "3      25       1       47.0       57.0  ...    0.0        0        0            1\n",
              "4      25       1       44.0       53.0  ...    0.0        0        0            1\n",
              "...   ...     ...        ...        ...  ...    ...      ...      ...          ...\n",
              "5584   24       1       44.0       34.0  ...    1.0        1        0            0\n",
              "5585   24       1       26.0        7.0  ...    1.0        1        0            0\n",
              "5586   24       1       29.0       23.0  ...    1.0        1        0            0\n",
              "5587   24       1       37.0       17.0  ...    1.0        1        0            0\n",
              "5588   24       1       37.0       30.0  ...    NaN        1        0            0\n",
              "\n",
              "[5589 rows x 17 columns]"
            ]
          },
          "metadata": {
            "tags": []
          },
          "execution_count": 111
        }
      ]
    },
    {
      "cell_type": "code",
      "metadata": {
        "id": "p-TMDMJoYOMf",
        "outputId": "72f3827b-776f-4662-e5a2-c545a50304eb",
        "colab": {
          "base_uri": "https://localhost:8080/"
        }
      },
      "source": [
        "print(\"non-numeric columns:\", len(data.select_dtypes('object').columns))"
      ],
      "execution_count": 112,
      "outputs": [
        {
          "output_type": "stream",
          "text": [
            "non-numeric columns: 0\n"
          ],
          "name": "stdout"
        }
      ]
    },
    {
      "cell_type": "markdown",
      "metadata": {
        "id": "nMh4tmQyZlQs"
      },
      "source": [
        "##EDA"
      ]
    },
    {
      "cell_type": "code",
      "metadata": {
        "id": "cwGb2TqLZk-w",
        "outputId": "aeb9e0e7-4917-4e76-ee9b-f0ffa4ffcbad",
        "colab": {
          "base_uri": "https://localhost:8080/"
        }
      },
      "source": [
        "data.dtypes"
      ],
      "execution_count": 113,
      "outputs": [
        {
          "output_type": "execute_result",
          "data": {
            "text/plain": [
              "Age              int64\n",
              "Gender           int64\n",
              "Attention      float64\n",
              "Mediation      float64\n",
              "Raw            float64\n",
              "Delta          float64\n",
              "Theta          float64\n",
              "Alpha1         float64\n",
              "Alpha2         float64\n",
              "Beta1          float64\n",
              "Beta2          float64\n",
              "Gamma1         float64\n",
              "Gamma2         float64\n",
              "Label          float64\n",
              "Bengali          uint8\n",
              "English          uint8\n",
              "Han Chinese      uint8\n",
              "dtype: object"
            ]
          },
          "metadata": {
            "tags": []
          },
          "execution_count": 113
        }
      ]
    },
    {
      "cell_type": "code",
      "metadata": {
        "id": "TITjxY4YZiek",
        "outputId": "311cfa6b-38c4-464c-880c-a7459851944f",
        "colab": {
          "base_uri": "https://localhost:8080/"
        }
      },
      "source": [
        "features = data.drop('Label', axis=1).copy()\r\n",
        "print(\"Features:\", len(features.columns))"
      ],
      "execution_count": 120,
      "outputs": [
        {
          "output_type": "stream",
          "text": [
            "Features: 16\n"
          ],
          "name": "stdout"
        }
      ]
    },
    {
      "cell_type": "code",
      "metadata": {
        "id": "T4hoQoP5bpoS",
        "outputId": "93b719a7-0be5-4739-d4fa-3186d10edda3",
        "colab": {
          "base_uri": "https://localhost:8080/"
        }
      },
      "source": [
        "categorical_features = ['Age', 'Gender', 'Bengali', 'English', 'Han Chinese']\r\n",
        "\r\n",
        "continuous_features = ['Attention', 'Mediation', 'Raw', 'Delta', 'Theta', 'Alpha1', 'Alpha2', 'Beta1', 'Beta2', 'Gamma1', 'Gamma2', 'Bengali', 'English', 'Han Chinese']\r\n",
        "\r\n",
        "print(\"Categorical Features:\", len(categorical_features))\r\n",
        "print(\"Continuos Features:\", len(continuous_features))"
      ],
      "execution_count": 125,
      "outputs": [
        {
          "output_type": "stream",
          "text": [
            "Categorical Features: 5\n",
            "Continuos Features: 14\n"
          ],
          "name": "stdout"
        }
      ]
    },
    {
      "cell_type": "markdown",
      "metadata": {
        "id": "6refv_g7dECT"
      },
      "source": [
        "##Univariate Anlaysis"
      ]
    },
    {
      "cell_type": "code",
      "metadata": {
        "id": "3xWzZtMjc5Rk",
        "outputId": "ffd5f217-5f7d-49b6-d8fd-955c55884828",
        "colab": {
          "base_uri": "https://localhost:8080/",
          "height": 708
        }
      },
      "source": [
        "features[continuous_features].plot(kind='box', figsize=(12, 15), subplots=True, layout=(5,4))\r\n",
        "plt.show()"
      ],
      "execution_count": 151,
      "outputs": [
        {
          "output_type": "display_data",
          "data": {
            "image/png": "[encoded data removed]",
            "text/plain": [
              "<Figure size 864x1080 with 20 Axes>"
            ]
          },
          "metadata": {
            "tags": [],
            "needs_background": "light"
          }
        }
      ]
    },
    {
      "cell_type": "code",
      "metadata": {
        "id": "O71jn_65e1oB",
        "outputId": "ee221e38-1ca4-40e9-f319-cac977d0b8e4",
        "colab": {
          "base_uri": "https://localhost:8080/",
          "height": 581
        }
      },
      "source": [
        "features[continuous_features].plot(kind='hist',bins=25, figsize=(15,12), subplots=True, layout=(5,4))\r\n",
        "plt.show()"
      ],
      "execution_count": 149,
      "outputs": [
        {
          "output_type": "display_data",
          "data": {
            "image/png": "[encoded data removed]",
            "text/plain": [
              "<Figure size 1080x864 with 20 Axes>"
            ]
          },
          "metadata": {
            "tags": [],
            "needs_background": "light"
          }
        }
      ]
    },
    {
      "cell_type": "code",
      "metadata": {
        "id": "7Ilc8tW-jwGu",
        "outputId": "4196e129-3750-4406-bd98-98ce1da09a7e",
        "colab": {
          "base_uri": "https://localhost:8080/",
          "height": 523
        }
      },
      "source": [
        "plt.figure(figsize=(20,5))\r\n",
        "for feature in categorical_features:\r\n",
        "  plt.subplot(1, 5, categorical_features.index(feature) + 1)\r\n",
        "  features[feature].value_counts().plot(kind='pie')\r\n",
        "plt.show()"
      ],
      "execution_count": 162,
      "outputs": [
        {
          "output_type": "error",
          "ename": "TypeError",
          "evalue": "ignored",
          "traceback": [
            "\u001b[0;31m---------------------------------------------------------------------------\u001b[0m",
            "\u001b[0;31mTypeError\u001b[0m                                 Traceback (most recent call last)",
            "\u001b[0;32m<ipython-input-162-7f7952de34c8>\u001b[0m in \u001b[0;36m<module>\u001b[0;34m()\u001b[0m\n\u001b[1;32m      2\u001b[0m \u001b[0;32mfor\u001b[0m \u001b[0mfeature\u001b[0m \u001b[0;32min\u001b[0m \u001b[0mcategorical_features\u001b[0m\u001b[0;34m:\u001b[0m\u001b[0;34m\u001b[0m\u001b[0;34m\u001b[0m\u001b[0m\n\u001b[1;32m      3\u001b[0m   \u001b[0mplt\u001b[0m\u001b[0;34m.\u001b[0m\u001b[0msubplot\u001b[0m\u001b[0;34m(\u001b[0m\u001b[0;36m1\u001b[0m\u001b[0;34m,\u001b[0m \u001b[0;36m5\u001b[0m\u001b[0;34m,\u001b[0m \u001b[0mcategorical_features\u001b[0m\u001b[0;34m.\u001b[0m\u001b[0mindex\u001b[0m\u001b[0;34m(\u001b[0m\u001b[0mfeature\u001b[0m\u001b[0;34m)\u001b[0m \u001b[0;34m+\u001b[0m \u001b[0;36m1\u001b[0m\u001b[0;34m)\u001b[0m\u001b[0;34m\u001b[0m\u001b[0;34m\u001b[0m\u001b[0m\n\u001b[0;32m----> 4\u001b[0;31m   \u001b[0mfeatures\u001b[0m\u001b[0;34m[\u001b[0m\u001b[0mfeature\u001b[0m\u001b[0;34m]\u001b[0m\u001b[0;34m.\u001b[0m\u001b[0mvalue_counts\u001b[0m\u001b[0;34m(\u001b[0m\u001b[0;34m)\u001b[0m\u001b[0;34m.\u001b[0m\u001b[0mplot\u001b[0m\u001b[0;34m(\u001b[0m\u001b[0mkind\u001b[0m\u001b[0;34m=\u001b[0m\u001b[0;34m'pie'\u001b[0m\u001b[0;34m)\u001b[0m\u001b[0;34m\u001b[0m\u001b[0;34m\u001b[0m\u001b[0m\n\u001b[0m\u001b[1;32m      5\u001b[0m \u001b[0mplt\u001b[0m\u001b[0;34m.\u001b[0m\u001b[0mshow\u001b[0m\u001b[0;34m(\u001b[0m\u001b[0;34m)\u001b[0m\u001b[0;34m\u001b[0m\u001b[0;34m\u001b[0m\u001b[0m\n",
            "\u001b[0;31mTypeError\u001b[0m: string indices must be integers"
          ]
        },
        {
          "output_type": "display_data",
          "data": {
            "image/png": "[encoded data removed]",
            "text/plain": [
              "<Figure size 1440x360 with 1 Axes>"
            ]
          },
          "metadata": {
            "tags": [],
            "needs_background": "light"
          }
        }
      ]
    },
    {
      "cell_type": "code",
      "metadata": {
        "id": "BTf1jM8op1Ff",
        "outputId": "49ce3f67-ddc2-4e82-fee1-e9209eda02d8",
        "colab": {
          "base_uri": "https://localhost:8080/",
          "height": 466
        }
      },
      "source": [
        "plt.figure(figsize=(8, 8))\r\n",
        "data['Label'].value_counts().plot(kind='pie', autopct='%.1f%%')\r\n",
        "plt.show()"
      ],
      "execution_count": 164,
      "outputs": [
        {
          "output_type": "display_data",
          "data": {
            "image/png": "[encoded data removed]",
            "text/plain": [
              "<Figure size 576x576 with 1 Axes>"
            ]
          },
          "metadata": {
            "tags": []
          }
        }
      ]
    },
    {
      "cell_type": "markdown",
      "metadata": {
        "id": "AWMq0gnyogww"
      },
      "source": [
        "## Multivariate Analysis"
      ]
    },
    {
      "cell_type": "code",
      "metadata": {
        "id": "BTBsCOI6lKnp",
        "outputId": "af2ff822-9c6d-414d-e0ac-d90ea1043bad",
        "colab": {
          "base_uri": "https://localhost:8080/",
          "height": 214
        }
      },
      "source": [
        "plt.figure(figsize=(20,20))\r\n",
        "sns.pairplot(features[continuous_features])\r\n",
        "plt.show()"
      ],
      "execution_count": 165,
      "outputs": [
        {
          "output_type": "error",
          "ename": "TypeError",
          "evalue": "ignored",
          "traceback": [
            "\u001b[0;31m---------------------------------------------------------------------------\u001b[0m",
            "\u001b[0;31mTypeError\u001b[0m                                 Traceback (most recent call last)",
            "\u001b[0;32m<ipython-input-165-fed593fe7a36>\u001b[0m in \u001b[0;36m<module>\u001b[0;34m()\u001b[0m\n\u001b[1;32m      1\u001b[0m \u001b[0mplt\u001b[0m\u001b[0;34m.\u001b[0m\u001b[0mfigure\u001b[0m\u001b[0;34m(\u001b[0m\u001b[0mfigsize\u001b[0m\u001b[0;34m=\u001b[0m\u001b[0;34m(\u001b[0m\u001b[0;36m20\u001b[0m\u001b[0;34m,\u001b[0m\u001b[0;36m20\u001b[0m\u001b[0;34m)\u001b[0m\u001b[0;34m)\u001b[0m\u001b[0;34m\u001b[0m\u001b[0;34m\u001b[0m\u001b[0m\n\u001b[0;32m----> 2\u001b[0;31m \u001b[0msns\u001b[0m\u001b[0;34m.\u001b[0m\u001b[0mpairplot\u001b[0m\u001b[0;34m(\u001b[0m\u001b[0mfeatures\u001b[0m\u001b[0;34m[\u001b[0m\u001b[0mcontinuous_features\u001b[0m\u001b[0;34m]\u001b[0m\u001b[0;34m)\u001b[0m\u001b[0;34m\u001b[0m\u001b[0;34m\u001b[0m\u001b[0m\n\u001b[0m\u001b[1;32m      3\u001b[0m \u001b[0mplt\u001b[0m\u001b[0;34m.\u001b[0m\u001b[0mshow\u001b[0m\u001b[0;34m(\u001b[0m\u001b[0;34m)\u001b[0m\u001b[0;34m\u001b[0m\u001b[0;34m\u001b[0m\u001b[0m\n",
            "\u001b[0;31mTypeError\u001b[0m: string indices must be integers"
          ]
        },
        {
          "output_type": "display_data",
          "data": {
            "text/plain": [
              "<Figure size 1440x1440 with 0 Axes>"
            ]
          },
          "metadata": {
            "tags": []
          }
        }
      ]
    }
  ]
}